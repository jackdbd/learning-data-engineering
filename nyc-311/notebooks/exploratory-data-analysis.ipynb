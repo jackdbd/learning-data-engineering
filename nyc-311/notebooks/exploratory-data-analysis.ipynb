{
 "cells": [
  {
   "cell_type": "code",
   "execution_count": 2,
   "id": "9cf426e4-a79c-40bc-b41d-9ee09454da1b",
   "metadata": {},
   "outputs": [],
   "source": [
    "import duckdb\n",
    "import os\n",
    "import pandas as pd"
   ]
  },
  {
   "cell_type": "code",
   "execution_count": 3,
   "id": "dea7d8fc-fc19-424b-92f2-ffe3a83f816e",
   "metadata": {},
   "outputs": [],
   "source": [
    "CSV_PATH = os.path.abspath(os.path.join('..', 'data', 'raw', '311_service_requests.csv'))\n",
    "DB_PATH = os.path.abspath(os.path.join('..', 'data', 'staging', 'data.duckdb'))"
   ]
  },
  {
   "cell_type": "markdown",
   "id": "5e1e358e-3756-4b39-a04a-a9bdce5d13a4",
   "metadata": {},
   "source": [
    "## CSV"
   ]
  },
  {
   "cell_type": "markdown",
   "id": "9871cf06-b7f9-4343-892c-f60fd22df3b5",
   "metadata": {},
   "source": [
    "The `311_service_requests.csv` file is 18 GB, so we have to read it in chunks."
   ]
  },
  {
   "cell_type": "code",
   "execution_count": 4,
   "id": "b9da43d4-b157-46fd-82f5-e9c03efcb166",
   "metadata": {},
   "outputs": [],
   "source": [
    "chunk_size = 1000  # number of rows per chunk"
   ]
  },
  {
   "cell_type": "code",
   "execution_count": 5,
   "id": "ae208284-4e24-4ce5-8539-6ce216b9e28f",
   "metadata": {},
   "outputs": [],
   "source": [
    "# mapping between CSV columns and DuckDB columns\n",
    "columns = {\n",
    "  \"Unique Key\": \"unique_key\",\n",
    "  \"Created Date\": \"created_date\",\n",
    "  \"Closed Date\": \"closed_date\",\n",
    "  \"Agency\": \"agency\",\n",
    "  \"Agency Name\": \"agency_name\",\n",
    "  \"Complaint Type\": \"complaint_type\",\n",
    "  \"Descriptor\": \"descriptor\",\n",
    "  \"Location Type\": \"location_type\",\n",
    "  \"Incident Zip\": \"incident_zip\",\n",
    "  \"Incident Address\": \"incident_address\",\n",
    "  \"City\": \"city\",\n",
    "  \"Status\": \"status\",\n",
    "  \"Borough\": \"borough\",\n",
    "  \"X Coordinate (State Plane)\": \"x_coord\",\n",
    "  \"Y Coordinate (State Plane)\": \"y_coord\",\n",
    "  \"Latitude\": \"latitude\",\n",
    "  \"Longitude\": \"longitude\",\n",
    "  \"Location\": \"location\"\n",
    "}"
   ]
  },
  {
   "cell_type": "code",
   "execution_count": 39,
   "id": "de580e7a-b35b-4113-aefc-2640f2417b7b",
   "metadata": {},
   "outputs": [],
   "source": [
    "conn = duckdb.connect(database=DB_PATH, read_only=False)"
   ]
  },
  {
   "cell_type": "code",
   "execution_count": 40,
   "id": "43076b0b-a16b-4252-842b-98813e0a18d9",
   "metadata": {},
   "outputs": [
    {
     "data": {
      "text/plain": [
       "<duckdb.duckdb.DuckDBPyConnection at 0x7fb387abfa70>"
      ]
     },
     "execution_count": 40,
     "metadata": {},
     "output_type": "execute_result"
    }
   ],
   "source": [
    "conn.execute(\"DROP TABLE IF EXISTS service_requests\")"
   ]
  },
  {
   "cell_type": "code",
   "execution_count": 32,
   "id": "c63cfb15-9579-48bd-a8fd-c844c7a511fa",
   "metadata": {},
   "outputs": [],
   "source": [
    "# https://pandas.pydata.org/pandas-docs/stable/reference/api/pandas.read_csv.html\n",
    "chunk_iter = pd.read_csv(CSV_PATH, usecols=columns.keys(), chunksize=chunk_size, on_bad_lines='skip')"
   ]
  },
  {
   "cell_type": "code",
   "execution_count": 33,
   "id": "ebe015fb-7e63-4e51-a194-33dea4e3840b",
   "metadata": {},
   "outputs": [],
   "source": [
    "# df = chunk_iter.__next__()"
   ]
  },
  {
   "cell_type": "code",
   "execution_count": 34,
   "id": "e521491b-38a4-4112-8d19-e45b7eb868b5",
   "metadata": {},
   "outputs": [
    {
     "ename": "KeyError",
     "evalue": "'City'",
     "output_type": "error",
     "traceback": [
      "\u001b[0;31m---------------------------------------------------------------------------\u001b[0m",
      "\u001b[0;31mKeyError\u001b[0m                                  Traceback (most recent call last)",
      "File \u001b[0;32m/nix/store/nm9q1ykw4d8rxhyslcq50kjajy75dk2a-python3.11-pandas-2.2.1/lib/python3.11/site-packages/pandas/core/indexes/base.py:3805\u001b[0m, in \u001b[0;36mIndex.get_loc\u001b[0;34m(self, key)\u001b[0m\n\u001b[1;32m   3804\u001b[0m \u001b[38;5;28;01mtry\u001b[39;00m:\n\u001b[0;32m-> 3805\u001b[0m     \u001b[38;5;28;01mreturn\u001b[39;00m \u001b[38;5;28;43mself\u001b[39;49m\u001b[38;5;241;43m.\u001b[39;49m\u001b[43m_engine\u001b[49m\u001b[38;5;241;43m.\u001b[39;49m\u001b[43mget_loc\u001b[49m\u001b[43m(\u001b[49m\u001b[43mcasted_key\u001b[49m\u001b[43m)\u001b[49m\n\u001b[1;32m   3806\u001b[0m \u001b[38;5;28;01mexcept\u001b[39;00m \u001b[38;5;167;01mKeyError\u001b[39;00m \u001b[38;5;28;01mas\u001b[39;00m err:\n",
      "File \u001b[0;32mindex.pyx:167\u001b[0m, in \u001b[0;36mpandas._libs.index.IndexEngine.get_loc\u001b[0;34m()\u001b[0m\n",
      "File \u001b[0;32mindex.pyx:196\u001b[0m, in \u001b[0;36mpandas._libs.index.IndexEngine.get_loc\u001b[0;34m()\u001b[0m\n",
      "File \u001b[0;32mpandas/_libs/hashtable_class_helper.pxi:7081\u001b[0m, in \u001b[0;36mpandas._libs.hashtable.PyObjectHashTable.get_item\u001b[0;34m()\u001b[0m\n",
      "File \u001b[0;32mpandas/_libs/hashtable_class_helper.pxi:7089\u001b[0m, in \u001b[0;36mpandas._libs.hashtable.PyObjectHashTable.get_item\u001b[0;34m()\u001b[0m\n",
      "\u001b[0;31mKeyError\u001b[0m: 'City'",
      "\nThe above exception was the direct cause of the following exception:\n",
      "\u001b[0;31mKeyError\u001b[0m                                  Traceback (most recent call last)",
      "Cell \u001b[0;32mIn[34], line 1\u001b[0m\n\u001b[0;32m----> 1\u001b[0m \u001b[43mdf\u001b[49m\u001b[43m[\u001b[49m\u001b[38;5;124;43m'\u001b[39;49m\u001b[38;5;124;43mCity\u001b[39;49m\u001b[38;5;124;43m'\u001b[39;49m\u001b[43m]\u001b[49m\u001b[38;5;241m.\u001b[39munique()\n",
      "File \u001b[0;32m/nix/store/nm9q1ykw4d8rxhyslcq50kjajy75dk2a-python3.11-pandas-2.2.1/lib/python3.11/site-packages/pandas/core/frame.py:4090\u001b[0m, in \u001b[0;36mDataFrame.__getitem__\u001b[0;34m(self, key)\u001b[0m\n\u001b[1;32m   4088\u001b[0m \u001b[38;5;28;01mif\u001b[39;00m \u001b[38;5;28mself\u001b[39m\u001b[38;5;241m.\u001b[39mcolumns\u001b[38;5;241m.\u001b[39mnlevels \u001b[38;5;241m>\u001b[39m \u001b[38;5;241m1\u001b[39m:\n\u001b[1;32m   4089\u001b[0m     \u001b[38;5;28;01mreturn\u001b[39;00m \u001b[38;5;28mself\u001b[39m\u001b[38;5;241m.\u001b[39m_getitem_multilevel(key)\n\u001b[0;32m-> 4090\u001b[0m indexer \u001b[38;5;241m=\u001b[39m \u001b[38;5;28;43mself\u001b[39;49m\u001b[38;5;241;43m.\u001b[39;49m\u001b[43mcolumns\u001b[49m\u001b[38;5;241;43m.\u001b[39;49m\u001b[43mget_loc\u001b[49m\u001b[43m(\u001b[49m\u001b[43mkey\u001b[49m\u001b[43m)\u001b[49m\n\u001b[1;32m   4091\u001b[0m \u001b[38;5;28;01mif\u001b[39;00m is_integer(indexer):\n\u001b[1;32m   4092\u001b[0m     indexer \u001b[38;5;241m=\u001b[39m [indexer]\n",
      "File \u001b[0;32m/nix/store/nm9q1ykw4d8rxhyslcq50kjajy75dk2a-python3.11-pandas-2.2.1/lib/python3.11/site-packages/pandas/core/indexes/base.py:3812\u001b[0m, in \u001b[0;36mIndex.get_loc\u001b[0;34m(self, key)\u001b[0m\n\u001b[1;32m   3807\u001b[0m     \u001b[38;5;28;01mif\u001b[39;00m \u001b[38;5;28misinstance\u001b[39m(casted_key, \u001b[38;5;28mslice\u001b[39m) \u001b[38;5;129;01mor\u001b[39;00m (\n\u001b[1;32m   3808\u001b[0m         \u001b[38;5;28misinstance\u001b[39m(casted_key, abc\u001b[38;5;241m.\u001b[39mIterable)\n\u001b[1;32m   3809\u001b[0m         \u001b[38;5;129;01mand\u001b[39;00m \u001b[38;5;28many\u001b[39m(\u001b[38;5;28misinstance\u001b[39m(x, \u001b[38;5;28mslice\u001b[39m) \u001b[38;5;28;01mfor\u001b[39;00m x \u001b[38;5;129;01min\u001b[39;00m casted_key)\n\u001b[1;32m   3810\u001b[0m     ):\n\u001b[1;32m   3811\u001b[0m         \u001b[38;5;28;01mraise\u001b[39;00m InvalidIndexError(key)\n\u001b[0;32m-> 3812\u001b[0m     \u001b[38;5;28;01mraise\u001b[39;00m \u001b[38;5;167;01mKeyError\u001b[39;00m(key) \u001b[38;5;28;01mfrom\u001b[39;00m \u001b[38;5;21;01merr\u001b[39;00m\n\u001b[1;32m   3813\u001b[0m \u001b[38;5;28;01mexcept\u001b[39;00m \u001b[38;5;167;01mTypeError\u001b[39;00m:\n\u001b[1;32m   3814\u001b[0m     \u001b[38;5;66;03m# If we have a listlike key, _check_indexing_error will raise\u001b[39;00m\n\u001b[1;32m   3815\u001b[0m     \u001b[38;5;66;03m#  InvalidIndexError. Otherwise we fall through and re-raise\u001b[39;00m\n\u001b[1;32m   3816\u001b[0m     \u001b[38;5;66;03m#  the TypeError.\u001b[39;00m\n\u001b[1;32m   3817\u001b[0m     \u001b[38;5;28mself\u001b[39m\u001b[38;5;241m.\u001b[39m_check_indexing_error(key)\n",
      "\u001b[0;31mKeyError\u001b[0m: 'City'"
     ]
    }
   ],
   "source": [
    "df['City'].unique()"
   ]
  },
  {
   "cell_type": "code",
   "execution_count": 35,
   "id": "d2d60a2d-a266-43cb-a6b7-0d8a92a78bdf",
   "metadata": {},
   "outputs": [
    {
     "name": "stdout",
     "output_type": "stream",
     "text": [
      "ingest chunk 0 into DuckDB\n",
      "ingest chunk 1 into DuckDB\n",
      "ingest chunk 2 into DuckDB\n",
      "ingest chunk 3 into DuckDB\n",
      "ingest chunk 4 into DuckDB\n",
      "ingest chunk 5 into DuckDB\n",
      "ingest chunk 6 into DuckDB\n",
      "ingest chunk 7 into DuckDB\n",
      "ingest chunk 8 into DuckDB\n",
      "ingest chunk 9 into DuckDB\n",
      "ingest chunk 10 into DuckDB\n",
      "ingest chunk 11 into DuckDB\n",
      "ingest chunk 12 into DuckDB\n",
      "ingest chunk 13 into DuckDB\n",
      "ingest chunk 14 into DuckDB\n",
      "ingest chunk 15 into DuckDB\n",
      "ingest chunk 16 into DuckDB\n",
      "ingest chunk 17 into DuckDB\n",
      "ingest chunk 18 into DuckDB\n",
      "ingest chunk 19 into DuckDB\n",
      "ingest chunk 20 into DuckDB\n",
      "ingest chunk 21 into DuckDB\n",
      "ingest chunk 22 into DuckDB\n",
      "ingest chunk 23 into DuckDB\n",
      "ingest chunk 24 into DuckDB\n",
      "ingest chunk 25 into DuckDB\n",
      "ingest chunk 26 into DuckDB\n",
      "ingest chunk 27 into DuckDB\n",
      "ingest chunk 28 into DuckDB\n",
      "ingest chunk 29 into DuckDB\n",
      "ingest chunk 30 into DuckDB\n",
      "ingest chunk 31 into DuckDB\n",
      "ingest chunk 32 into DuckDB\n",
      "ingest chunk 33 into DuckDB\n",
      "ingest chunk 34 into DuckDB\n",
      "ingest chunk 35 into DuckDB\n",
      "ingest chunk 36 into DuckDB\n",
      "ingest chunk 37 into DuckDB\n",
      "ingest chunk 38 into DuckDB\n",
      "ingest chunk 39 into DuckDB\n",
      "ingest chunk 40 into DuckDB\n",
      "ingest chunk 41 into DuckDB\n",
      "ingest chunk 42 into DuckDB\n",
      "ingest chunk 43 into DuckDB\n",
      "ingest chunk 44 into DuckDB\n",
      "ingest chunk 45 into DuckDB\n",
      "ingest chunk 46 into DuckDB\n",
      "ingest chunk 47 into DuckDB\n",
      "ingest chunk 48 into DuckDB\n",
      "ingest chunk 49 into DuckDB\n",
      "ingest chunk 50 into DuckDB\n",
      "ingest chunk 51 into DuckDB\n",
      "ingest chunk 52 into DuckDB\n",
      "ingest chunk 53 into DuckDB\n",
      "ingest chunk 54 into DuckDB\n",
      "ingest chunk 55 into DuckDB\n",
      "ingest chunk 56 into DuckDB\n",
      "ingest chunk 57 into DuckDB\n",
      "ingest chunk 58 into DuckDB\n",
      "ingest chunk 59 into DuckDB\n",
      "ingest chunk 60 into DuckDB\n",
      "ingest chunk 61 into DuckDB\n",
      "ingest chunk 62 into DuckDB\n",
      "ingest chunk 63 into DuckDB\n",
      "ingest chunk 64 into DuckDB\n",
      "ingest chunk 65 into DuckDB\n",
      "ingest chunk 66 into DuckDB\n",
      "ingest chunk 67 into DuckDB\n",
      "ingest chunk 68 into DuckDB\n",
      "ingest chunk 69 into DuckDB\n",
      "ingest chunk 70 into DuckDB\n",
      "ingest chunk 71 into DuckDB\n",
      "ingest chunk 72 into DuckDB\n",
      "ingest chunk 73 into DuckDB\n",
      "ingest chunk 74 into DuckDB\n",
      "ingest chunk 75 into DuckDB\n",
      "ingest chunk 76 into DuckDB\n",
      "ingest chunk 77 into DuckDB\n",
      "ingest chunk 78 into DuckDB\n",
      "ingest chunk 79 into DuckDB\n",
      "ingest chunk 80 into DuckDB\n",
      "ingest chunk 81 into DuckDB\n",
      "ingest chunk 82 into DuckDB\n",
      "ingest chunk 83 into DuckDB\n",
      "ingest chunk 84 into DuckDB\n",
      "ingest chunk 85 into DuckDB\n",
      "ingest chunk 86 into DuckDB\n",
      "ingest chunk 87 into DuckDB\n",
      "ingest chunk 88 into DuckDB\n",
      "ingest chunk 89 into DuckDB\n",
      "ingest chunk 90 into DuckDB\n",
      "ingest chunk 91 into DuckDB\n",
      "ingest chunk 92 into DuckDB\n",
      "ingest chunk 93 into DuckDB\n",
      "ingest chunk 94 into DuckDB\n",
      "ingest chunk 95 into DuckDB\n",
      "ingest chunk 96 into DuckDB\n",
      "ingest chunk 97 into DuckDB\n",
      "ingest chunk 98 into DuckDB\n",
      "ingest chunk 99 into DuckDB\n",
      "ingest chunk 100 into DuckDB\n"
     ]
    }
   ],
   "source": [
    "for i, df in enumerate(chunk_iter):\n",
    "    df.rename(columns=columns, inplace=True)\n",
    "    \n",
    "    # TODO: to be removed \n",
    "    if i > 100: break\n",
    "    # if i < 2300: continue\n",
    "    # if i > 2330: break\n",
    "\n",
    "    zips_to_drop = [\n",
    "        '02061-0601',\n",
    "        '06890-2101',\n",
    "        '11725-9030',\n",
    "        '11797-1016',\n",
    "        '11804-9005',\n",
    "        '12212-5368',\n",
    "        '19154-3210',\n",
    "        '55438-5908',\n",
    "        '59901-3413',\n",
    "        '61702-3517',\n",
    "        '75007-1958',\n",
    "        '77094-8911',\n",
    "        '90060-0578',\n",
    "        '94566-9057',\n",
    "        '97076-0477',\n",
    "        'DID N',\n",
    "        'HARRISBURG',\n",
    "        'NJ 07'\n",
    "    ]\n",
    "    \n",
    "    mask = df['incident_zip'].astype(str).fillna('').str.contains('|'.join(zips_to_drop))\n",
    "    indexes_to_drop = df[mask].index\n",
    "    df.drop(indexes_to_drop, inplace=True)\n",
    "    \n",
    "    # df = df.apply(clean_row, axis=1)\n",
    "    df['created_date'] = pd.to_datetime(df['created_date'], format='%m/%d/%Y %I:%M:%S %p')\n",
    "    df['closed_date'] = pd.to_datetime(df['closed_date'], format='%m/%d/%Y %I:%M:%S %p')\n",
    "\n",
    "    conn.execute(f\"CREATE TABLE IF NOT EXISTS service_requests AS SELECT * FROM df\")\n",
    "\n",
    "    print(f\"ingest chunk {i} into DuckDB\")\n",
    "    conn.execute(f\"INSERT INTO service_requests SELECT * FROM df\")"
   ]
  },
  {
   "cell_type": "code",
   "execution_count": 19,
   "id": "7277cd04-5564-4d52-b466-e1c93f28ff9f",
   "metadata": {},
   "outputs": [
    {
     "data": {
      "text/plain": [
       "Index(['unique_key', 'created_date', 'closed_date', 'agency', 'agency_name',\n",
       "       'complaint_type', 'descriptor', 'location_type', 'incident_zip',\n",
       "       'incident_address', 'city', 'status', 'borough', 'x_coord', 'y_coord',\n",
       "       'latitude', 'longitude', 'location'],\n",
       "      dtype='object')"
      ]
     },
     "execution_count": 19,
     "metadata": {},
     "output_type": "execute_result"
    }
   ],
   "source": [
    "df.columns"
   ]
  },
  {
   "cell_type": "code",
   "execution_count": 107,
   "id": "b443140b-1dff-4edd-b1b2-80ace071a6de",
   "metadata": {},
   "outputs": [
    {
     "name": "stdout",
     "output_type": "stream",
     "text": [
      "Row index 214061 is problematic:\n",
      "\n",
      "        unique_key        created_date         closed_date agency  \\\n",
      "214061    23594481 2012-07-11 13:03:40 2012-07-27 01:06:26   DCWP   \n",
      "\n",
      "                                         agency_name      complaint_type  \\\n",
      "214061  Department of Consumer and Worker Protection  Consumer Complaint   \n",
      "\n",
      "           descriptor location_type incident_zip incident_address       city  \\\n",
      "214061  Debt Not Owed           NaN   59901-3413  1327 HIGHWAY 2W  KALISPELL   \n",
      "\n",
      "        status      borough  x_coord  y_coord  latitude  longitude location  \n",
      "214061  Closed  Unspecified      NaN      NaN       NaN        NaN      NaN  \n"
     ]
    }
   ],
   "source": [
    "search_string = '59901-3413'\n",
    "\n",
    "# If I do NOT know the column in which the problematic string appears\n",
    "# Create a boolean DataFrame where each cell indicates if the search string is present\n",
    "contains_string = df.map(lambda x: search_string in str(x))\n",
    "\n",
    "# Reduce the boolean DataFrame to a Series indicating if the string is present in any column\n",
    "rows_with_string = contains_string.any(axis=1)\n",
    "\n",
    "result_df = df[rows_with_string]\n",
    "\n",
    "print(f\"Row index {result_df.index[0]} is problematic:\\n\")\n",
    "print(result_df)"
   ]
  },
  {
   "cell_type": "code",
   "execution_count": 45,
   "id": "f2063ee4-4aa2-40f0-8adb-adc9a7f0834e",
   "metadata": {},
   "outputs": [
    {
     "name": "stdout",
     "output_type": "stream",
     "text": [
      "          unique_key        created_date         closed_date agency  \\\n",
      "16458336    43131584 2019-06-27 14:07:24 2019-06-28 10:03:29   DCWP   \n",
      "\n",
      "                                           agency_name      complaint_type  \\\n",
      "16458336  Department of Consumer and Worker Protection  Consumer Complaint   \n",
      "\n",
      "              descriptor location_type incident_zip  \\\n",
      "16458336  Process Server           NaN        DID N   \n",
      "\n",
      "                     incident_address              city  status      borough  \\\n",
      "16458336  DID NOT DI DID NOT DISCLOSE  DID NOT DISCLOSE  Closed  Unspecified   \n",
      "\n",
      "          x_coord  y_coord  latitude  longitude location  \n",
      "16458336      NaN      NaN       NaN        NaN      NaN  \n",
      "Drop these indexes Index([16458336], dtype='int64')\n"
     ]
    }
   ],
   "source": [
    "# If I do know the column in which the problematic string appears\n",
    "\n",
    "result_df = df[df['incident_zip'] == search_string]\n",
    "print(result_df)\n",
    "print(f\"Drop these indexes {result_df.index}\")"
   ]
  },
  {
   "cell_type": "code",
   "execution_count": 118,
   "id": "e356ef9d-b9dd-4b90-89e1-bece710af53f",
   "metadata": {},
   "outputs": [
    {
     "name": "stdout",
     "output_type": "stream",
     "text": [
      "<class 'pandas.core.frame.DataFrame'>\n",
      "RangeIndex: 285 entries, 0 to 284\n",
      "Data columns (total 3 columns):\n",
      " #   Column            Non-Null Count  Dtype         \n",
      "---  ------            --------------  -----         \n",
      " 0   complaint_date    285 non-null    datetime64[us]\n",
      " 1   daily_complaints  285 non-null    int64         \n",
      " 2   borough           284 non-null    object        \n",
      "dtypes: datetime64[us](1), int64(1), object(1)\n",
      "memory usage: 6.8+ KB\n"
     ]
    }
   ],
   "source": [
    "df.info('Incident Zip')"
   ]
  },
  {
   "cell_type": "code",
   "execution_count": 11,
   "id": "b9de5d54-106a-43bb-86ba-25e3ae77fdb4",
   "metadata": {},
   "outputs": [
    {
     "data": {
      "text/plain": [
       "┌──────────────┐\n",
       "│ count_star() │\n",
       "│    int64     │\n",
       "├──────────────┤\n",
       "│      3502091 │\n",
       "└──────────────┘"
      ]
     },
     "execution_count": 11,
     "metadata": {},
     "output_type": "execute_result"
    }
   ],
   "source": [
    "conn.sql(\"SELECT count(*) FROM service_requests\")"
   ]
  },
  {
   "cell_type": "markdown",
   "id": "69d0ac3c-7606-42bb-a882-0c2072ee914b",
   "metadata": {},
   "source": [
    "## DuckDB"
   ]
  },
  {
   "cell_type": "code",
   "execution_count": 9,
   "id": "8e68fbbe-54aa-407c-94fb-84b21beaf30f",
   "metadata": {},
   "outputs": [
    {
     "name": "stdout",
     "output_type": "stream",
     "text": [
      "┌───────┐\n",
      "│  42   │\n",
      "│ int32 │\n",
      "├───────┤\n",
      "│    42 │\n",
      "└───────┘\n",
      "\n"
     ]
    }
   ],
   "source": [
    "duckdb.sql(\"SELECT 42\").show()"
   ]
  },
  {
   "cell_type": "code",
   "execution_count": 23,
   "id": "b01078b0-32be-4a36-9569-424ef019a21a",
   "metadata": {},
   "outputs": [
    {
     "data": {
      "text/plain": [
       "┌──────────────┐\n",
       "│ count_star() │\n",
       "│    int64     │\n",
       "├──────────────┤\n",
       "│      3471091 │\n",
       "└──────────────┘"
      ]
     },
     "execution_count": 23,
     "metadata": {},
     "output_type": "execute_result"
    }
   ],
   "source": [
    "conn.sql(\"SELECT count(*) FROM service_requests\")"
   ]
  },
  {
   "cell_type": "code",
   "execution_count": 22,
   "id": "4b480ec1-90d5-4e06-9b6e-b7456bd15cf7",
   "metadata": {},
   "outputs": [],
   "source": [
    "conn = duckdb.connect(database = DB_PATH, read_only = False)"
   ]
  },
  {
   "cell_type": "code",
   "execution_count": 112,
   "id": "7f39ff3d-7532-4284-ba6c-f64f5cd04b99",
   "metadata": {},
   "outputs": [
    {
     "data": {
      "text/plain": [
       "(23320093,\n",
       " datetime.datetime(2012, 5, 29, 0, 0),\n",
       " datetime.datetime(2012, 6, 3, 0, 0),\n",
       " 'HPD',\n",
       " 'Department of Housing Preservation and Development',\n",
       " 'PLUMBING',\n",
       " 'WATER-SUPPLY',\n",
       " 'RESIDENTIAL BUILDING',\n",
       " 10452.0,\n",
       " '975 WALTON AVENUE',\n",
       " 'BRONX',\n",
       " 'Closed',\n",
       " 'BRONX',\n",
       " 1005589.0,\n",
       " 241404.0,\n",
       " 40.82924789920053,\n",
       " -73.92289242169471,\n",
       " '(40.829247899200524, -73.92289242169471)')"
      ]
     },
     "execution_count": 112,
     "metadata": {},
     "output_type": "execute_result"
    }
   ],
   "source": [
    "conn.execute(\"SELECT * FROM service_requests WHERE borough = 'BRONX' AND status = 'Closed' LIMIT 10\")\n",
    "conn.fetchone()\n",
    "# conn.fetchall()"
   ]
  },
  {
   "cell_type": "markdown",
   "id": "8112925c-ec8a-4c26-8ccf-5ef1236519bf",
   "metadata": {},
   "source": [
    "## Plots"
   ]
  },
  {
   "cell_type": "code",
   "execution_count": 114,
   "id": "3097fe84-a06b-4f4d-9c34-e23d4b038308",
   "metadata": {},
   "outputs": [],
   "source": [
    "import plotly\n",
    "import plotly.express as px"
   ]
  },
  {
   "cell_type": "code",
   "execution_count": 115,
   "id": "9c89fe5b-d098-4e9b-ae86-4921206e8be2",
   "metadata": {},
   "outputs": [],
   "source": [
    "query = f\"\"\"\n",
    "    WITH daily_counts AS (\n",
    "    SELECT\n",
    "      date_trunc('day', created_date) AS complaint_date,\n",
    "      borough,\n",
    "      COUNT(*) AS daily_complaints\n",
    "    FROM\n",
    "      data.main.service_requests\n",
    "    GROUP BY\n",
    "      date_trunc('day', created_date),\n",
    "      borough\n",
    "    )\n",
    "    SELECT\n",
    "      complaint_date,\n",
    "      daily_complaints,\n",
    "      borough\n",
    "    FROM\n",
    "      daily_counts\n",
    "    ORDER BY\n",
    "      complaint_date,\n",
    "      daily_complaints DESC;\n",
    "    \"\"\"\n",
    "df = conn.execute(query).fetch_df()"
   ]
  },
  {
   "cell_type": "code",
   "execution_count": 117,
   "id": "83c5b55b-3f3b-4266-8913-21a87854b476",
   "metadata": {},
   "outputs": [
    {
     "data": {
      "application/vnd.plotly.v1+json": {
       "config": {
        "plotlyServerURL": "https://plot.ly"
       },
       "data": [
        {
         "hovertemplate": "borough=BROOKLYN<br>complaint_date=%{x}<br>daily_complaints=%{y}<extra></extra>",
         "legendgroup": "",
         "line": {
          "color": "#636efa",
          "dash": "solid"
         },
         "marker": {
          "symbol": "circle"
         },
         "mode": "lines",
         "name": "",
         "orientation": "v",
         "showlegend": false,
         "type": "scatter",
         "x": [
          "2010-08-09T00:00:00",
          "2011-03-10T00:00:00",
          "2011-09-09T00:00:00",
          "2012-05-28T00:00:00",
          "2012-05-29T00:00:00",
          "2012-05-30T00:00:00",
          "2012-05-31T00:00:00",
          "2012-06-01T00:00:00",
          "2012-06-02T00:00:00",
          "2012-06-03T00:00:00",
          "2012-06-04T00:00:00",
          "2012-06-05T00:00:00",
          "2012-06-06T00:00:00",
          "2012-06-07T00:00:00",
          "2012-06-08T00:00:00",
          "2012-06-09T00:00:00",
          "2012-06-10T00:00:00",
          "2012-06-11T00:00:00",
          "2012-06-12T00:00:00",
          "2012-06-13T00:00:00",
          "2012-06-14T00:00:00",
          "2012-06-15T00:00:00",
          "2012-06-16T00:00:00",
          "2012-06-17T00:00:00",
          "2012-06-18T00:00:00",
          "2012-06-19T00:00:00",
          "2012-06-20T00:00:00",
          "2012-06-21T00:00:00",
          "2012-06-22T00:00:00",
          "2012-06-23T00:00:00",
          "2012-06-24T00:00:00",
          "2012-06-25T00:00:00",
          "2012-06-26T00:00:00",
          "2012-06-27T00:00:00",
          "2012-06-28T00:00:00",
          "2012-06-29T00:00:00",
          "2012-06-30T00:00:00",
          "2012-07-01T00:00:00",
          "2012-07-02T00:00:00",
          "2012-07-03T00:00:00",
          "2012-07-04T00:00:00",
          "2012-07-05T00:00:00",
          "2012-07-06T00:00:00",
          "2012-07-07T00:00:00",
          "2012-07-08T00:00:00",
          "2012-07-09T00:00:00",
          "2012-07-10T00:00:00",
          "2012-07-11T00:00:00"
         ],
         "xaxis": "x7",
         "y": [
          2,
          1,
          1,
          9,
          673,
          1821,
          1920,
          1650,
          1002,
          932,
          1672,
          1748,
          1547,
          1544,
          1464,
          1023,
          975,
          1736,
          1613,
          1941,
          1724,
          1565,
          1064,
          1043,
          1960,
          1734,
          1691,
          1845,
          1839,
          1209,
          1065,
          1941,
          1715,
          1668,
          1788,
          1548,
          1329,
          1115,
          2160,
          1946,
          1031,
          1956,
          1771,
          1381,
          1221,
          123,
          15,
          8
         ],
         "yaxis": "y7"
        },
        {
         "hovertemplate": "borough=QUEENS<br>complaint_date=%{x}<br>daily_complaints=%{y}<extra></extra>",
         "legendgroup": "",
         "line": {
          "color": "#636efa",
          "dash": "solid"
         },
         "marker": {
          "symbol": "circle"
         },
         "mode": "lines",
         "name": "",
         "orientation": "v",
         "showlegend": false,
         "type": "scatter",
         "x": [
          "2011-06-17T00:00:00",
          "2011-12-21T00:00:00",
          "2012-03-19T00:00:00",
          "2012-04-30T00:00:00",
          "2012-05-02T00:00:00",
          "2012-05-28T00:00:00",
          "2012-05-29T00:00:00",
          "2012-05-30T00:00:00",
          "2012-05-31T00:00:00",
          "2012-06-01T00:00:00",
          "2012-06-02T00:00:00",
          "2012-06-03T00:00:00",
          "2012-06-04T00:00:00",
          "2012-06-05T00:00:00",
          "2012-06-06T00:00:00",
          "2012-06-07T00:00:00",
          "2012-06-08T00:00:00",
          "2012-06-09T00:00:00",
          "2012-06-10T00:00:00",
          "2012-06-11T00:00:00",
          "2012-06-12T00:00:00",
          "2012-06-13T00:00:00",
          "2012-06-14T00:00:00",
          "2012-06-15T00:00:00",
          "2012-06-16T00:00:00",
          "2012-06-17T00:00:00",
          "2012-06-18T00:00:00",
          "2012-06-19T00:00:00",
          "2012-06-20T00:00:00",
          "2012-06-21T00:00:00",
          "2012-06-22T00:00:00",
          "2012-06-23T00:00:00",
          "2012-06-24T00:00:00",
          "2012-06-25T00:00:00",
          "2012-06-26T00:00:00",
          "2012-06-27T00:00:00",
          "2012-06-28T00:00:00",
          "2012-06-29T00:00:00",
          "2012-06-30T00:00:00",
          "2012-07-01T00:00:00",
          "2012-07-02T00:00:00",
          "2012-07-03T00:00:00",
          "2012-07-04T00:00:00",
          "2012-07-05T00:00:00",
          "2012-07-06T00:00:00",
          "2012-07-07T00:00:00",
          "2012-07-08T00:00:00",
          "2012-07-09T00:00:00",
          "2012-07-10T00:00:00",
          "2012-07-11T00:00:00"
         ],
         "xaxis": "x8",
         "y": [
          1,
          1,
          1,
          1,
          1,
          8,
          391,
          1409,
          1408,
          1197,
          749,
          778,
          1341,
          1273,
          1414,
          1165,
          1259,
          853,
          667,
          1539,
          1128,
          1443,
          1284,
          1269,
          893,
          860,
          1484,
          1432,
          1457,
          1535,
          1394,
          990,
          790,
          1530,
          1384,
          1420,
          1404,
          1322,
          988,
          944,
          1422,
          1401,
          727,
          1396,
          1298,
          849,
          783,
          83,
          7,
          4
         ],
         "yaxis": "y8"
        },
        {
         "hovertemplate": "borough=MANHATTAN<br>complaint_date=%{x}<br>daily_complaints=%{y}<extra></extra>",
         "legendgroup": "",
         "line": {
          "color": "#636efa",
          "dash": "solid"
         },
         "marker": {
          "symbol": "circle"
         },
         "mode": "lines",
         "name": "",
         "orientation": "v",
         "showlegend": false,
         "type": "scatter",
         "x": [
          "2011-10-27T00:00:00",
          "2012-01-31T00:00:00",
          "2012-03-26T00:00:00",
          "2012-04-10T00:00:00",
          "2012-04-17T00:00:00",
          "2012-05-03T00:00:00",
          "2012-05-24T00:00:00",
          "2012-05-29T00:00:00",
          "2012-05-30T00:00:00",
          "2012-05-31T00:00:00",
          "2012-06-01T00:00:00",
          "2012-06-02T00:00:00",
          "2012-06-03T00:00:00",
          "2012-06-04T00:00:00",
          "2012-06-05T00:00:00",
          "2012-06-06T00:00:00",
          "2012-06-07T00:00:00",
          "2012-06-08T00:00:00",
          "2012-06-09T00:00:00",
          "2012-06-10T00:00:00",
          "2012-06-11T00:00:00",
          "2012-06-12T00:00:00",
          "2012-06-13T00:00:00",
          "2012-06-14T00:00:00",
          "2012-06-15T00:00:00",
          "2012-06-16T00:00:00",
          "2012-06-17T00:00:00",
          "2012-06-18T00:00:00",
          "2012-06-19T00:00:00",
          "2012-06-20T00:00:00",
          "2012-06-21T00:00:00",
          "2012-06-22T00:00:00",
          "2012-06-23T00:00:00",
          "2012-06-24T00:00:00",
          "2012-06-25T00:00:00",
          "2012-06-26T00:00:00",
          "2012-06-27T00:00:00",
          "2012-06-28T00:00:00",
          "2012-06-29T00:00:00",
          "2012-06-30T00:00:00",
          "2012-07-01T00:00:00",
          "2012-07-02T00:00:00",
          "2012-07-03T00:00:00",
          "2012-07-04T00:00:00",
          "2012-07-05T00:00:00",
          "2012-07-06T00:00:00",
          "2012-07-07T00:00:00",
          "2012-07-08T00:00:00",
          "2012-07-09T00:00:00",
          "2012-07-10T00:00:00",
          "2012-07-11T00:00:00"
         ],
         "xaxis": "x9",
         "y": [
          1,
          1,
          1,
          1,
          1,
          1,
          1,
          479,
          1169,
          1118,
          1001,
          640,
          491,
          1136,
          992,
          1167,
          1095,
          1078,
          783,
          551,
          1035,
          951,
          1121,
          1081,
          1087,
          736,
          622,
          1043,
          998,
          1245,
          1307,
          948,
          808,
          529,
          1065,
          982,
          1036,
          1261,
          1100,
          879,
          579,
          1037,
          997,
          567,
          1102,
          1031,
          745,
          527,
          77,
          5,
          3
         ],
         "yaxis": "y9"
        },
        {
         "hovertemplate": "borough=BRONX<br>complaint_date=%{x}<br>daily_complaints=%{y}<extra></extra>",
         "legendgroup": "",
         "line": {
          "color": "#636efa",
          "dash": "solid"
         },
         "marker": {
          "symbol": "circle"
         },
         "mode": "lines",
         "name": "",
         "orientation": "v",
         "showlegend": false,
         "type": "scatter",
         "x": [
          "2012-01-25T00:00:00",
          "2012-05-03T00:00:00",
          "2012-05-25T00:00:00",
          "2012-05-29T00:00:00",
          "2012-05-30T00:00:00",
          "2012-05-31T00:00:00",
          "2012-06-01T00:00:00",
          "2012-06-02T00:00:00",
          "2012-06-03T00:00:00",
          "2012-06-04T00:00:00",
          "2012-06-05T00:00:00",
          "2012-06-06T00:00:00",
          "2012-06-07T00:00:00",
          "2012-06-08T00:00:00",
          "2012-06-09T00:00:00",
          "2012-06-10T00:00:00",
          "2012-06-11T00:00:00",
          "2012-06-12T00:00:00",
          "2012-06-13T00:00:00",
          "2012-06-14T00:00:00",
          "2012-06-15T00:00:00",
          "2012-06-16T00:00:00",
          "2012-06-17T00:00:00",
          "2012-06-18T00:00:00",
          "2012-06-19T00:00:00",
          "2012-06-20T00:00:00",
          "2012-06-21T00:00:00",
          "2012-06-22T00:00:00",
          "2012-06-23T00:00:00",
          "2012-06-24T00:00:00",
          "2012-06-25T00:00:00",
          "2012-06-26T00:00:00",
          "2012-06-27T00:00:00",
          "2012-06-28T00:00:00",
          "2012-06-29T00:00:00",
          "2012-06-30T00:00:00",
          "2012-07-01T00:00:00",
          "2012-07-02T00:00:00",
          "2012-07-03T00:00:00",
          "2012-07-04T00:00:00",
          "2012-07-05T00:00:00",
          "2012-07-06T00:00:00",
          "2012-07-07T00:00:00",
          "2012-07-08T00:00:00",
          "2012-07-09T00:00:00",
          "2012-07-10T00:00:00",
          "2012-07-11T00:00:00"
         ],
         "xaxis": "x4",
         "y": [
          1,
          1,
          5,
          431,
          1107,
          919,
          949,
          594,
          446,
          1031,
          1032,
          815,
          937,
          890,
          597,
          463,
          1075,
          936,
          953,
          1041,
          769,
          566,
          510,
          1125,
          1183,
          1183,
          1743,
          1296,
          758,
          645,
          893,
          1137,
          958,
          1014,
          1295,
          873,
          777,
          1424,
          1144,
          693,
          1445,
          1165,
          874,
          649,
          62,
          1,
          8
         ],
         "yaxis": "y4"
        },
        {
         "hovertemplate": "borough=STATEN ISLAND<br>complaint_date=%{x}<br>daily_complaints=%{y}<extra></extra>",
         "legendgroup": "",
         "line": {
          "color": "#636efa",
          "dash": "solid"
         },
         "marker": {
          "symbol": "circle"
         },
         "mode": "lines",
         "name": "",
         "orientation": "v",
         "showlegend": false,
         "type": "scatter",
         "x": [
          "2012-05-29T00:00:00",
          "2012-05-30T00:00:00",
          "2012-05-31T00:00:00",
          "2012-06-01T00:00:00",
          "2012-06-02T00:00:00",
          "2012-06-03T00:00:00",
          "2012-06-04T00:00:00",
          "2012-06-05T00:00:00",
          "2012-06-06T00:00:00",
          "2012-06-07T00:00:00",
          "2012-06-08T00:00:00",
          "2012-06-09T00:00:00",
          "2012-06-10T00:00:00",
          "2012-06-11T00:00:00",
          "2012-06-12T00:00:00",
          "2012-06-13T00:00:00",
          "2012-06-14T00:00:00",
          "2012-06-15T00:00:00",
          "2012-06-16T00:00:00",
          "2012-06-17T00:00:00",
          "2012-06-18T00:00:00",
          "2012-06-19T00:00:00",
          "2012-06-20T00:00:00",
          "2012-06-21T00:00:00",
          "2012-06-22T00:00:00",
          "2012-06-23T00:00:00",
          "2012-06-24T00:00:00",
          "2012-06-25T00:00:00",
          "2012-06-26T00:00:00",
          "2012-06-27T00:00:00",
          "2012-06-28T00:00:00",
          "2012-06-29T00:00:00",
          "2012-06-30T00:00:00",
          "2012-07-01T00:00:00",
          "2012-07-02T00:00:00",
          "2012-07-03T00:00:00",
          "2012-07-04T00:00:00",
          "2012-07-05T00:00:00",
          "2012-07-06T00:00:00",
          "2012-07-07T00:00:00",
          "2012-07-08T00:00:00",
          "2012-07-09T00:00:00",
          "2012-07-10T00:00:00",
          "2012-07-11T00:00:00"
         ],
         "xaxis": "x5",
         "y": [
          103,
          369,
          357,
          316,
          207,
          111,
          284,
          293,
          307,
          276,
          300,
          150,
          148,
          324,
          318,
          328,
          283,
          327,
          162,
          125,
          331,
          343,
          224,
          303,
          337,
          184,
          166,
          456,
          386,
          345,
          344,
          307,
          178,
          156,
          329,
          288,
          141,
          294,
          280,
          181,
          128,
          17,
          5,
          1
         ],
         "yaxis": "y5"
        },
        {
         "hovertemplate": "borough=Unspecified<br>complaint_date=%{x}<br>daily_complaints=%{y}<extra></extra>",
         "legendgroup": "",
         "line": {
          "color": "#636efa",
          "dash": "solid"
         },
         "marker": {
          "symbol": "circle"
         },
         "mode": "lines",
         "name": "",
         "orientation": "v",
         "showlegend": false,
         "type": "scatter",
         "x": [
          "2012-05-29T00:00:00",
          "2012-05-30T00:00:00",
          "2012-05-31T00:00:00",
          "2012-06-01T00:00:00",
          "2012-06-02T00:00:00",
          "2012-06-03T00:00:00",
          "2012-06-04T00:00:00",
          "2012-06-05T00:00:00",
          "2012-06-06T00:00:00",
          "2012-06-07T00:00:00",
          "2012-06-08T00:00:00",
          "2012-06-09T00:00:00",
          "2012-06-10T00:00:00",
          "2012-06-11T00:00:00",
          "2012-06-12T00:00:00",
          "2012-06-13T00:00:00",
          "2012-06-14T00:00:00",
          "2012-06-15T00:00:00",
          "2012-06-16T00:00:00",
          "2012-06-17T00:00:00",
          "2012-06-18T00:00:00",
          "2012-06-19T00:00:00",
          "2012-06-20T00:00:00",
          "2012-06-21T00:00:00",
          "2012-06-22T00:00:00",
          "2012-06-23T00:00:00",
          "2012-06-24T00:00:00",
          "2012-06-25T00:00:00",
          "2012-06-26T00:00:00",
          "2012-06-27T00:00:00",
          "2012-06-28T00:00:00",
          "2012-06-29T00:00:00",
          "2012-06-30T00:00:00",
          "2012-07-01T00:00:00",
          "2012-07-02T00:00:00",
          "2012-07-03T00:00:00",
          "2012-07-04T00:00:00",
          "2012-07-05T00:00:00",
          "2012-07-06T00:00:00",
          "2012-07-07T00:00:00",
          "2012-07-08T00:00:00",
          "2012-07-09T00:00:00",
          "2012-07-10T00:00:00",
          "2012-07-11T00:00:00"
         ],
         "xaxis": "x6",
         "y": [
          24,
          96,
          104,
          86,
          21,
          17,
          127,
          126,
          117,
          105,
          67,
          22,
          23,
          112,
          74,
          110,
          105,
          87,
          15,
          25,
          103,
          99,
          132,
          107,
          117,
          51,
          32,
          137,
          93,
          102,
          118,
          82,
          79,
          77,
          130,
          104,
          26,
          123,
          95,
          69,
          71,
          19,
          6,
          7
         ],
         "yaxis": "y6"
        }
       ],
       "layout": {
        "annotations": [
         {
          "font": {},
          "showarrow": false,
          "text": "None",
          "x": 0.15999999999999998,
          "xanchor": "center",
          "xref": "paper",
          "y": 0.2866666666666666,
          "yanchor": "bottom",
          "yref": "paper"
         },
         {
          "font": {},
          "showarrow": false,
          "text": "BRONX",
          "x": 0.15999999999999998,
          "xanchor": "center",
          "xref": "paper",
          "y": 0.6433333333333333,
          "yanchor": "bottom",
          "yref": "paper"
         },
         {
          "font": {},
          "showarrow": false,
          "text": "STATEN ISLAND",
          "x": 0.49999999999999994,
          "xanchor": "center",
          "xref": "paper",
          "y": 0.6433333333333333,
          "yanchor": "bottom",
          "yref": "paper"
         },
         {
          "font": {},
          "showarrow": false,
          "text": "Unspecified",
          "x": 0.8399999999999999,
          "xanchor": "center",
          "xref": "paper",
          "y": 0.6433333333333333,
          "yanchor": "bottom",
          "yref": "paper"
         },
         {
          "font": {},
          "showarrow": false,
          "text": "BROOKLYN",
          "x": 0.15999999999999998,
          "xanchor": "center",
          "xref": "paper",
          "y": 0.9999999999999999,
          "yanchor": "bottom",
          "yref": "paper"
         },
         {
          "font": {},
          "showarrow": false,
          "text": "QUEENS",
          "x": 0.49999999999999994,
          "xanchor": "center",
          "xref": "paper",
          "y": 0.9999999999999999,
          "yanchor": "bottom",
          "yref": "paper"
         },
         {
          "font": {},
          "showarrow": false,
          "text": "MANHATTAN",
          "x": 0.8399999999999999,
          "xanchor": "center",
          "xref": "paper",
          "y": 0.9999999999999999,
          "yanchor": "bottom",
          "yref": "paper"
         }
        ],
        "autosize": true,
        "dragmode": "zoom",
        "legend": {
         "tracegroupgap": 0
        },
        "template": {
         "data": {
          "bar": [
           {
            "error_x": {
             "color": "#2a3f5f"
            },
            "error_y": {
             "color": "#2a3f5f"
            },
            "marker": {
             "line": {
              "color": "#E5ECF6",
              "width": 0.5
             },
             "pattern": {
              "fillmode": "overlay",
              "size": 10,
              "solidity": 0.2
             }
            },
            "type": "bar"
           }
          ],
          "barpolar": [
           {
            "marker": {
             "line": {
              "color": "#E5ECF6",
              "width": 0.5
             },
             "pattern": {
              "fillmode": "overlay",
              "size": 10,
              "solidity": 0.2
             }
            },
            "type": "barpolar"
           }
          ],
          "carpet": [
           {
            "aaxis": {
             "endlinecolor": "#2a3f5f",
             "gridcolor": "white",
             "linecolor": "white",
             "minorgridcolor": "white",
             "startlinecolor": "#2a3f5f"
            },
            "baxis": {
             "endlinecolor": "#2a3f5f",
             "gridcolor": "white",
             "linecolor": "white",
             "minorgridcolor": "white",
             "startlinecolor": "#2a3f5f"
            },
            "type": "carpet"
           }
          ],
          "choropleth": [
           {
            "colorbar": {
             "outlinewidth": 0,
             "ticks": ""
            },
            "type": "choropleth"
           }
          ],
          "contour": [
           {
            "colorbar": {
             "outlinewidth": 0,
             "ticks": ""
            },
            "colorscale": [
             [
              0,
              "#0d0887"
             ],
             [
              0.1111111111111111,
              "#46039f"
             ],
             [
              0.2222222222222222,
              "#7201a8"
             ],
             [
              0.3333333333333333,
              "#9c179e"
             ],
             [
              0.4444444444444444,
              "#bd3786"
             ],
             [
              0.5555555555555556,
              "#d8576b"
             ],
             [
              0.6666666666666666,
              "#ed7953"
             ],
             [
              0.7777777777777778,
              "#fb9f3a"
             ],
             [
              0.8888888888888888,
              "#fdca26"
             ],
             [
              1,
              "#f0f921"
             ]
            ],
            "type": "contour"
           }
          ],
          "contourcarpet": [
           {
            "colorbar": {
             "outlinewidth": 0,
             "ticks": ""
            },
            "type": "contourcarpet"
           }
          ],
          "heatmap": [
           {
            "colorbar": {
             "outlinewidth": 0,
             "ticks": ""
            },
            "colorscale": [
             [
              0,
              "#0d0887"
             ],
             [
              0.1111111111111111,
              "#46039f"
             ],
             [
              0.2222222222222222,
              "#7201a8"
             ],
             [
              0.3333333333333333,
              "#9c179e"
             ],
             [
              0.4444444444444444,
              "#bd3786"
             ],
             [
              0.5555555555555556,
              "#d8576b"
             ],
             [
              0.6666666666666666,
              "#ed7953"
             ],
             [
              0.7777777777777778,
              "#fb9f3a"
             ],
             [
              0.8888888888888888,
              "#fdca26"
             ],
             [
              1,
              "#f0f921"
             ]
            ],
            "type": "heatmap"
           }
          ],
          "heatmapgl": [
           {
            "colorbar": {
             "outlinewidth": 0,
             "ticks": ""
            },
            "colorscale": [
             [
              0,
              "#0d0887"
             ],
             [
              0.1111111111111111,
              "#46039f"
             ],
             [
              0.2222222222222222,
              "#7201a8"
             ],
             [
              0.3333333333333333,
              "#9c179e"
             ],
             [
              0.4444444444444444,
              "#bd3786"
             ],
             [
              0.5555555555555556,
              "#d8576b"
             ],
             [
              0.6666666666666666,
              "#ed7953"
             ],
             [
              0.7777777777777778,
              "#fb9f3a"
             ],
             [
              0.8888888888888888,
              "#fdca26"
             ],
             [
              1,
              "#f0f921"
             ]
            ],
            "type": "heatmapgl"
           }
          ],
          "histogram": [
           {
            "marker": {
             "pattern": {
              "fillmode": "overlay",
              "size": 10,
              "solidity": 0.2
             }
            },
            "type": "histogram"
           }
          ],
          "histogram2d": [
           {
            "colorbar": {
             "outlinewidth": 0,
             "ticks": ""
            },
            "colorscale": [
             [
              0,
              "#0d0887"
             ],
             [
              0.1111111111111111,
              "#46039f"
             ],
             [
              0.2222222222222222,
              "#7201a8"
             ],
             [
              0.3333333333333333,
              "#9c179e"
             ],
             [
              0.4444444444444444,
              "#bd3786"
             ],
             [
              0.5555555555555556,
              "#d8576b"
             ],
             [
              0.6666666666666666,
              "#ed7953"
             ],
             [
              0.7777777777777778,
              "#fb9f3a"
             ],
             [
              0.8888888888888888,
              "#fdca26"
             ],
             [
              1,
              "#f0f921"
             ]
            ],
            "type": "histogram2d"
           }
          ],
          "histogram2dcontour": [
           {
            "colorbar": {
             "outlinewidth": 0,
             "ticks": ""
            },
            "colorscale": [
             [
              0,
              "#0d0887"
             ],
             [
              0.1111111111111111,
              "#46039f"
             ],
             [
              0.2222222222222222,
              "#7201a8"
             ],
             [
              0.3333333333333333,
              "#9c179e"
             ],
             [
              0.4444444444444444,
              "#bd3786"
             ],
             [
              0.5555555555555556,
              "#d8576b"
             ],
             [
              0.6666666666666666,
              "#ed7953"
             ],
             [
              0.7777777777777778,
              "#fb9f3a"
             ],
             [
              0.8888888888888888,
              "#fdca26"
             ],
             [
              1,
              "#f0f921"
             ]
            ],
            "type": "histogram2dcontour"
           }
          ],
          "mesh3d": [
           {
            "colorbar": {
             "outlinewidth": 0,
             "ticks": ""
            },
            "type": "mesh3d"
           }
          ],
          "parcoords": [
           {
            "line": {
             "colorbar": {
              "outlinewidth": 0,
              "ticks": ""
             }
            },
            "type": "parcoords"
           }
          ],
          "pie": [
           {
            "automargin": true,
            "type": "pie"
           }
          ],
          "scatter": [
           {
            "fillpattern": {
             "fillmode": "overlay",
             "size": 10,
             "solidity": 0.2
            },
            "type": "scatter"
           }
          ],
          "scatter3d": [
           {
            "line": {
             "colorbar": {
              "outlinewidth": 0,
              "ticks": ""
             }
            },
            "marker": {
             "colorbar": {
              "outlinewidth": 0,
              "ticks": ""
             }
            },
            "type": "scatter3d"
           }
          ],
          "scattercarpet": [
           {
            "marker": {
             "colorbar": {
              "outlinewidth": 0,
              "ticks": ""
             }
            },
            "type": "scattercarpet"
           }
          ],
          "scattergeo": [
           {
            "marker": {
             "colorbar": {
              "outlinewidth": 0,
              "ticks": ""
             }
            },
            "type": "scattergeo"
           }
          ],
          "scattergl": [
           {
            "marker": {
             "colorbar": {
              "outlinewidth": 0,
              "ticks": ""
             }
            },
            "type": "scattergl"
           }
          ],
          "scattermapbox": [
           {
            "marker": {
             "colorbar": {
              "outlinewidth": 0,
              "ticks": ""
             }
            },
            "type": "scattermapbox"
           }
          ],
          "scatterpolar": [
           {
            "marker": {
             "colorbar": {
              "outlinewidth": 0,
              "ticks": ""
             }
            },
            "type": "scatterpolar"
           }
          ],
          "scatterpolargl": [
           {
            "marker": {
             "colorbar": {
              "outlinewidth": 0,
              "ticks": ""
             }
            },
            "type": "scatterpolargl"
           }
          ],
          "scatterternary": [
           {
            "marker": {
             "colorbar": {
              "outlinewidth": 0,
              "ticks": ""
             }
            },
            "type": "scatterternary"
           }
          ],
          "surface": [
           {
            "colorbar": {
             "outlinewidth": 0,
             "ticks": ""
            },
            "colorscale": [
             [
              0,
              "#0d0887"
             ],
             [
              0.1111111111111111,
              "#46039f"
             ],
             [
              0.2222222222222222,
              "#7201a8"
             ],
             [
              0.3333333333333333,
              "#9c179e"
             ],
             [
              0.4444444444444444,
              "#bd3786"
             ],
             [
              0.5555555555555556,
              "#d8576b"
             ],
             [
              0.6666666666666666,
              "#ed7953"
             ],
             [
              0.7777777777777778,
              "#fb9f3a"
             ],
             [
              0.8888888888888888,
              "#fdca26"
             ],
             [
              1,
              "#f0f921"
             ]
            ],
            "type": "surface"
           }
          ],
          "table": [
           {
            "cells": {
             "fill": {
              "color": "#EBF0F8"
             },
             "line": {
              "color": "white"
             }
            },
            "header": {
             "fill": {
              "color": "#C8D4E3"
             },
             "line": {
              "color": "white"
             }
            },
            "type": "table"
           }
          ]
         },
         "layout": {
          "annotationdefaults": {
           "arrowcolor": "#2a3f5f",
           "arrowhead": 0,
           "arrowwidth": 1
          },
          "autotypenumbers": "strict",
          "coloraxis": {
           "colorbar": {
            "outlinewidth": 0,
            "ticks": ""
           }
          },
          "colorscale": {
           "diverging": [
            [
             0,
             "#8e0152"
            ],
            [
             0.1,
             "#c51b7d"
            ],
            [
             0.2,
             "#de77ae"
            ],
            [
             0.3,
             "#f1b6da"
            ],
            [
             0.4,
             "#fde0ef"
            ],
            [
             0.5,
             "#f7f7f7"
            ],
            [
             0.6,
             "#e6f5d0"
            ],
            [
             0.7,
             "#b8e186"
            ],
            [
             0.8,
             "#7fbc41"
            ],
            [
             0.9,
             "#4d9221"
            ],
            [
             1,
             "#276419"
            ]
           ],
           "sequential": [
            [
             0,
             "#0d0887"
            ],
            [
             0.1111111111111111,
             "#46039f"
            ],
            [
             0.2222222222222222,
             "#7201a8"
            ],
            [
             0.3333333333333333,
             "#9c179e"
            ],
            [
             0.4444444444444444,
             "#bd3786"
            ],
            [
             0.5555555555555556,
             "#d8576b"
            ],
            [
             0.6666666666666666,
             "#ed7953"
            ],
            [
             0.7777777777777778,
             "#fb9f3a"
            ],
            [
             0.8888888888888888,
             "#fdca26"
            ],
            [
             1,
             "#f0f921"
            ]
           ],
           "sequentialminus": [
            [
             0,
             "#0d0887"
            ],
            [
             0.1111111111111111,
             "#46039f"
            ],
            [
             0.2222222222222222,
             "#7201a8"
            ],
            [
             0.3333333333333333,
             "#9c179e"
            ],
            [
             0.4444444444444444,
             "#bd3786"
            ],
            [
             0.5555555555555556,
             "#d8576b"
            ],
            [
             0.6666666666666666,
             "#ed7953"
            ],
            [
             0.7777777777777778,
             "#fb9f3a"
            ],
            [
             0.8888888888888888,
             "#fdca26"
            ],
            [
             1,
             "#f0f921"
            ]
           ]
          },
          "colorway": [
           "#636efa",
           "#EF553B",
           "#00cc96",
           "#ab63fa",
           "#FFA15A",
           "#19d3f3",
           "#FF6692",
           "#B6E880",
           "#FF97FF",
           "#FECB52"
          ],
          "font": {
           "color": "#2a3f5f"
          },
          "geo": {
           "bgcolor": "white",
           "lakecolor": "white",
           "landcolor": "#E5ECF6",
           "showlakes": true,
           "showland": true,
           "subunitcolor": "white"
          },
          "hoverlabel": {
           "align": "left"
          },
          "hovermode": "closest",
          "mapbox": {
           "style": "light"
          },
          "paper_bgcolor": "white",
          "plot_bgcolor": "#E5ECF6",
          "polar": {
           "angularaxis": {
            "gridcolor": "white",
            "linecolor": "white",
            "ticks": ""
           },
           "bgcolor": "#E5ECF6",
           "radialaxis": {
            "gridcolor": "white",
            "linecolor": "white",
            "ticks": ""
           }
          },
          "scene": {
           "xaxis": {
            "backgroundcolor": "#E5ECF6",
            "gridcolor": "white",
            "gridwidth": 2,
            "linecolor": "white",
            "showbackground": true,
            "ticks": "",
            "zerolinecolor": "white"
           },
           "yaxis": {
            "backgroundcolor": "#E5ECF6",
            "gridcolor": "white",
            "gridwidth": 2,
            "linecolor": "white",
            "showbackground": true,
            "ticks": "",
            "zerolinecolor": "white"
           },
           "zaxis": {
            "backgroundcolor": "#E5ECF6",
            "gridcolor": "white",
            "gridwidth": 2,
            "linecolor": "white",
            "showbackground": true,
            "ticks": "",
            "zerolinecolor": "white"
           }
          },
          "shapedefaults": {
           "line": {
            "color": "#2a3f5f"
           }
          },
          "ternary": {
           "aaxis": {
            "gridcolor": "white",
            "linecolor": "white",
            "ticks": ""
           },
           "baxis": {
            "gridcolor": "white",
            "linecolor": "white",
            "ticks": ""
           },
           "bgcolor": "#E5ECF6",
           "caxis": {
            "gridcolor": "white",
            "linecolor": "white",
            "ticks": ""
           }
          },
          "title": {
           "x": 0.05
          },
          "xaxis": {
           "automargin": true,
           "gridcolor": "white",
           "linecolor": "white",
           "ticks": "",
           "title": {
            "standoff": 15
           },
           "zerolinecolor": "white",
           "zerolinewidth": 2
          },
          "yaxis": {
           "automargin": true,
           "gridcolor": "white",
           "linecolor": "white",
           "ticks": "",
           "title": {
            "standoff": 15
           },
           "zerolinecolor": "white",
           "zerolinewidth": 2
          }
         }
        },
        "title": {
         "text": "Daily complaints over time, grouped by NYC borough"
        },
        "xaxis": {
         "anchor": "y",
         "autorange": false,
         "domain": [
          0,
          0.31999999999999995
         ],
         "range": [
          "2012-02-24 17:53:09.6617",
          "2012-07-11"
         ],
         "title": {
          "text": "Date"
         }
        },
        "xaxis2": {
         "anchor": "y2",
         "domain": [
          0.33999999999999997,
          0.6599999999999999
         ],
         "matches": "x",
         "title": {
          "text": "Date"
         }
        },
        "xaxis3": {
         "anchor": "y3",
         "domain": [
          0.6799999999999999,
          0.9999999999999999
         ],
         "matches": "x",
         "title": {
          "text": "Date"
         }
        },
        "xaxis4": {
         "anchor": "y4",
         "autorange": false,
         "domain": [
          0,
          0.31999999999999995
         ],
         "matches": "x",
         "range": [
          "2012-02-24 17:53:09.6617",
          "2012-07-11"
         ],
         "showticklabels": false,
         "title": {
          "text": "Date"
         },
         "type": "date"
        },
        "xaxis5": {
         "anchor": "y5",
         "autorange": false,
         "domain": [
          0.33999999999999997,
          0.6599999999999999
         ],
         "matches": "x",
         "range": [
          "2012-02-24 17:53:09.6617",
          "2012-07-11"
         ],
         "showticklabels": false,
         "title": {
          "text": "Date"
         },
         "type": "date"
        },
        "xaxis6": {
         "anchor": "y6",
         "autorange": false,
         "domain": [
          0.6799999999999999,
          0.9999999999999999
         ],
         "matches": "x",
         "range": [
          "2012-02-24 17:53:09.6617",
          "2012-07-11"
         ],
         "showticklabels": false,
         "title": {
          "text": "Date"
         },
         "type": "date"
        },
        "xaxis7": {
         "anchor": "y7",
         "autorange": false,
         "domain": [
          0,
          0.31999999999999995
         ],
         "matches": "x",
         "range": [
          "2012-02-24 17:53:09.6617",
          "2012-07-11"
         ],
         "showticklabels": false,
         "title": {
          "text": "Date"
         },
         "type": "date"
        },
        "xaxis8": {
         "anchor": "y8",
         "autorange": false,
         "domain": [
          0.33999999999999997,
          0.6599999999999999
         ],
         "matches": "x",
         "range": [
          "2012-02-24 17:53:09.6617",
          "2012-07-11"
         ],
         "showticklabels": false,
         "title": {
          "text": "Date"
         },
         "type": "date"
        },
        "xaxis9": {
         "anchor": "y9",
         "autorange": false,
         "domain": [
          0.6799999999999999,
          0.9999999999999999
         ],
         "matches": "x",
         "range": [
          "2012-02-24 17:53:09.6617",
          "2012-07-11"
         ],
         "showticklabels": false,
         "title": {
          "text": "Date"
         },
         "type": "date"
        },
        "yaxis": {
         "anchor": "x",
         "autorange": false,
         "domain": [
          0,
          0.2866666666666666
         ],
         "range": [
          -75.79582525839817,
          1969.7683435615845
         ],
         "title": {
          "text": "Complaints reported"
         }
        },
        "yaxis2": {
         "anchor": "x2",
         "domain": [
          0,
          0.2866666666666666
         ],
         "matches": "y",
         "showticklabels": false,
         "title": {
          "text": "Complaints reported"
         }
        },
        "yaxis3": {
         "anchor": "x3",
         "domain": [
          0,
          0.2866666666666666
         ],
         "matches": "y",
         "showticklabels": false,
         "title": {
          "text": "Complaints reported"
         }
        },
        "yaxis4": {
         "anchor": "x4",
         "autorange": false,
         "domain": [
          0.35666666666666663,
          0.6433333333333333
         ],
         "matches": "y",
         "range": [
          -75.79582525839817,
          1969.7683435615845
         ],
         "title": {
          "text": "Complaints reported"
         },
         "type": "linear"
        },
        "yaxis5": {
         "anchor": "x5",
         "autorange": false,
         "domain": [
          0.35666666666666663,
          0.6433333333333333
         ],
         "matches": "y",
         "range": [
          -75.79582525839817,
          1969.7683435615845
         ],
         "showticklabels": false,
         "title": {
          "text": "Complaints reported"
         },
         "type": "linear"
        },
        "yaxis6": {
         "anchor": "x6",
         "autorange": false,
         "domain": [
          0.35666666666666663,
          0.6433333333333333
         ],
         "matches": "y",
         "range": [
          -75.79582525839817,
          1969.7683435615845
         ],
         "showticklabels": false,
         "title": {
          "text": "Complaints reported"
         },
         "type": "linear"
        },
        "yaxis7": {
         "anchor": "x7",
         "autorange": false,
         "domain": [
          0.7133333333333333,
          0.9999999999999999
         ],
         "matches": "y",
         "range": [
          -75.79582525839817,
          1969.7683435615845
         ],
         "title": {
          "text": "Complaints reported"
         },
         "type": "linear"
        },
        "yaxis8": {
         "anchor": "x8",
         "autorange": false,
         "domain": [
          0.7133333333333333,
          0.9999999999999999
         ],
         "matches": "y",
         "range": [
          -75.79582525839817,
          1969.7683435615845
         ],
         "showticklabels": false,
         "title": {
          "text": "Complaints reported"
         },
         "type": "linear"
        },
        "yaxis9": {
         "anchor": "x9",
         "autorange": false,
         "domain": [
          0.7133333333333333,
          0.9999999999999999
         ],
         "matches": "y",
         "range": [
          -75.79582525839817,
          1969.7683435615845
         ],
         "showticklabels": false,
         "title": {
          "text": "Complaints reported"
         },
         "type": "linear"
        }
       }
      },
      "image/png": "[encoded data removed]",
      "text/html": [
       "<div>                            <div id=\"8c31ff8d-1d41-469b-9817-2ac1e53fd1bc\" class=\"plotly-graph-div\" style=\"height:525px; width:100%;\"></div>            <script type=\"text/javascript\">                require([\"plotly\"], function(Plotly) {                    window.PLOTLYENV=window.PLOTLYENV || {};                                    if (document.getElementById(\"8c31ff8d-1d41-469b-9817-2ac1e53fd1bc\")) {                    Plotly.newPlot(                        \"8c31ff8d-1d41-469b-9817-2ac1e53fd1bc\",                        [{\"hovertemplate\":\"borough=BROOKLYN\\u003cbr\\u003ecomplaint_date=%{x}\\u003cbr\\u003edaily_complaints=%{y}\\u003cextra\\u003e\\u003c\\u002fextra\\u003e\",\"legendgroup\":\"\",\"line\":{\"color\":\"#636efa\",\"dash\":\"solid\"},\"marker\":{\"symbol\":\"circle\"},\"mode\":\"lines\",\"name\":\"\",\"orientation\":\"v\",\"showlegend\":false,\"x\":[\"2010-08-09T00:00:00\",\"2011-03-10T00:00:00\",\"2011-09-09T00:00:00\",\"2012-05-28T00:00:00\",\"2012-05-29T00:00:00\",\"2012-05-30T00:00:00\",\"2012-05-31T00:00:00\",\"2012-06-01T00:00:00\",\"2012-06-02T00:00:00\",\"2012-06-03T00:00:00\",\"2012-06-04T00:00:00\",\"2012-06-05T00:00:00\",\"2012-06-06T00:00:00\",\"2012-06-07T00:00:00\",\"2012-06-08T00:00:00\",\"2012-06-09T00:00:00\",\"2012-06-10T00:00:00\",\"2012-06-11T00:00:00\",\"2012-06-12T00:00:00\",\"2012-06-13T00:00:00\",\"2012-06-14T00:00:00\",\"2012-06-15T00:00:00\",\"2012-06-16T00:00:00\",\"2012-06-17T00:00:00\",\"2012-06-18T00:00:00\",\"2012-06-19T00:00:00\",\"2012-06-20T00:00:00\",\"2012-06-21T00:00:00\",\"2012-06-22T00:00:00\",\"2012-06-23T00:00:00\",\"2012-06-24T00:00:00\",\"2012-06-25T00:00:00\",\"2012-06-26T00:00:00\",\"2012-06-27T00:00:00\",\"2012-06-28T00:00:00\",\"2012-06-29T00:00:00\",\"2012-06-30T00:00:00\",\"2012-07-01T00:00:00\",\"2012-07-02T00:00:00\",\"2012-07-03T00:00:00\",\"2012-07-04T00:00:00\",\"2012-07-05T00:00:00\",\"2012-07-06T00:00:00\",\"2012-07-07T00:00:00\",\"2012-07-08T00:00:00\",\"2012-07-09T00:00:00\",\"2012-07-10T00:00:00\",\"2012-07-11T00:00:00\"],\"xaxis\":\"x7\",\"y\":[2,1,1,9,673,1821,1920,1650,1002,932,1672,1748,1547,1544,1464,1023,975,1736,1613,1941,1724,1565,1064,1043,1960,1734,1691,1845,1839,1209,1065,1941,1715,1668,1788,1548,1329,1115,2160,1946,1031,1956,1771,1381,1221,123,15,8],\"yaxis\":\"y7\",\"type\":\"scatter\"},{\"hovertemplate\":\"borough=QUEENS\\u003cbr\\u003ecomplaint_date=%{x}\\u003cbr\\u003edaily_complaints=%{y}\\u003cextra\\u003e\\u003c\\u002fextra\\u003e\",\"legendgroup\":\"\",\"line\":{\"color\":\"#636efa\",\"dash\":\"solid\"},\"marker\":{\"symbol\":\"circle\"},\"mode\":\"lines\",\"name\":\"\",\"orientation\":\"v\",\"showlegend\":false,\"x\":[\"2011-06-17T00:00:00\",\"2011-12-21T00:00:00\",\"2012-03-19T00:00:00\",\"2012-04-30T00:00:00\",\"2012-05-02T00:00:00\",\"2012-05-28T00:00:00\",\"2012-05-29T00:00:00\",\"2012-05-30T00:00:00\",\"2012-05-31T00:00:00\",\"2012-06-01T00:00:00\",\"2012-06-02T00:00:00\",\"2012-06-03T00:00:00\",\"2012-06-04T00:00:00\",\"2012-06-05T00:00:00\",\"2012-06-06T00:00:00\",\"2012-06-07T00:00:00\",\"2012-06-08T00:00:00\",\"2012-06-09T00:00:00\",\"2012-06-10T00:00:00\",\"2012-06-11T00:00:00\",\"2012-06-12T00:00:00\",\"2012-06-13T00:00:00\",\"2012-06-14T00:00:00\",\"2012-06-15T00:00:00\",\"2012-06-16T00:00:00\",\"2012-06-17T00:00:00\",\"2012-06-18T00:00:00\",\"2012-06-19T00:00:00\",\"2012-06-20T00:00:00\",\"2012-06-21T00:00:00\",\"2012-06-22T00:00:00\",\"2012-06-23T00:00:00\",\"2012-06-24T00:00:00\",\"2012-06-25T00:00:00\",\"2012-06-26T00:00:00\",\"2012-06-27T00:00:00\",\"2012-06-28T00:00:00\",\"2012-06-29T00:00:00\",\"2012-06-30T00:00:00\",\"2012-07-01T00:00:00\",\"2012-07-02T00:00:00\",\"2012-07-03T00:00:00\",\"2012-07-04T00:00:00\",\"2012-07-05T00:00:00\",\"2012-07-06T00:00:00\",\"2012-07-07T00:00:00\",\"2012-07-08T00:00:00\",\"2012-07-09T00:00:00\",\"2012-07-10T00:00:00\",\"2012-07-11T00:00:00\"],\"xaxis\":\"x8\",\"y\":[1,1,1,1,1,8,391,1409,1408,1197,749,778,1341,1273,1414,1165,1259,853,667,1539,1128,1443,1284,1269,893,860,1484,1432,1457,1535,1394,990,790,1530,1384,1420,1404,1322,988,944,1422,1401,727,1396,1298,849,783,83,7,4],\"yaxis\":\"y8\",\"type\":\"scatter\"},{\"hovertemplate\":\"borough=MANHATTAN\\u003cbr\\u003ecomplaint_date=%{x}\\u003cbr\\u003edaily_complaints=%{y}\\u003cextra\\u003e\\u003c\\u002fextra\\u003e\",\"legendgroup\":\"\",\"line\":{\"color\":\"#636efa\",\"dash\":\"solid\"},\"marker\":{\"symbol\":\"circle\"},\"mode\":\"lines\",\"name\":\"\",\"orientation\":\"v\",\"showlegend\":false,\"x\":[\"2011-10-27T00:00:00\",\"2012-01-31T00:00:00\",\"2012-03-26T00:00:00\",\"2012-04-10T00:00:00\",\"2012-04-17T00:00:00\",\"2012-05-03T00:00:00\",\"2012-05-24T00:00:00\",\"2012-05-29T00:00:00\",\"2012-05-30T00:00:00\",\"2012-05-31T00:00:00\",\"2012-06-01T00:00:00\",\"2012-06-02T00:00:00\",\"2012-06-03T00:00:00\",\"2012-06-04T00:00:00\",\"2012-06-05T00:00:00\",\"2012-06-06T00:00:00\",\"2012-06-07T00:00:00\",\"2012-06-08T00:00:00\",\"2012-06-09T00:00:00\",\"2012-06-10T00:00:00\",\"2012-06-11T00:00:00\",\"2012-06-12T00:00:00\",\"2012-06-13T00:00:00\",\"2012-06-14T00:00:00\",\"2012-06-15T00:00:00\",\"2012-06-16T00:00:00\",\"2012-06-17T00:00:00\",\"2012-06-18T00:00:00\",\"2012-06-19T00:00:00\",\"2012-06-20T00:00:00\",\"2012-06-21T00:00:00\",\"2012-06-22T00:00:00\",\"2012-06-23T00:00:00\",\"2012-06-24T00:00:00\",\"2012-06-25T00:00:00\",\"2012-06-26T00:00:00\",\"2012-06-27T00:00:00\",\"2012-06-28T00:00:00\",\"2012-06-29T00:00:00\",\"2012-06-30T00:00:00\",\"2012-07-01T00:00:00\",\"2012-07-02T00:00:00\",\"2012-07-03T00:00:00\",\"2012-07-04T00:00:00\",\"2012-07-05T00:00:00\",\"2012-07-06T00:00:00\",\"2012-07-07T00:00:00\",\"2012-07-08T00:00:00\",\"2012-07-09T00:00:00\",\"2012-07-10T00:00:00\",\"2012-07-11T00:00:00\"],\"xaxis\":\"x9\",\"y\":[1,1,1,1,1,1,1,479,1169,1118,1001,640,491,1136,992,1167,1095,1078,783,551,1035,951,1121,1081,1087,736,622,1043,998,1245,1307,948,808,529,1065,982,1036,1261,1100,879,579,1037,997,567,1102,1031,745,527,77,5,3],\"yaxis\":\"y9\",\"type\":\"scatter\"},{\"hovertemplate\":\"borough=BRONX\\u003cbr\\u003ecomplaint_date=%{x}\\u003cbr\\u003edaily_complaints=%{y}\\u003cextra\\u003e\\u003c\\u002fextra\\u003e\",\"legendgroup\":\"\",\"line\":{\"color\":\"#636efa\",\"dash\":\"solid\"},\"marker\":{\"symbol\":\"circle\"},\"mode\":\"lines\",\"name\":\"\",\"orientation\":\"v\",\"showlegend\":false,\"x\":[\"2012-01-25T00:00:00\",\"2012-05-03T00:00:00\",\"2012-05-25T00:00:00\",\"2012-05-29T00:00:00\",\"2012-05-30T00:00:00\",\"2012-05-31T00:00:00\",\"2012-06-01T00:00:00\",\"2012-06-02T00:00:00\",\"2012-06-03T00:00:00\",\"2012-06-04T00:00:00\",\"2012-06-05T00:00:00\",\"2012-06-06T00:00:00\",\"2012-06-07T00:00:00\",\"2012-06-08T00:00:00\",\"2012-06-09T00:00:00\",\"2012-06-10T00:00:00\",\"2012-06-11T00:00:00\",\"2012-06-12T00:00:00\",\"2012-06-13T00:00:00\",\"2012-06-14T00:00:00\",\"2012-06-15T00:00:00\",\"2012-06-16T00:00:00\",\"2012-06-17T00:00:00\",\"2012-06-18T00:00:00\",\"2012-06-19T00:00:00\",\"2012-06-20T00:00:00\",\"2012-06-21T00:00:00\",\"2012-06-22T00:00:00\",\"2012-06-23T00:00:00\",\"2012-06-24T00:00:00\",\"2012-06-25T00:00:00\",\"2012-06-26T00:00:00\",\"2012-06-27T00:00:00\",\"2012-06-28T00:00:00\",\"2012-06-29T00:00:00\",\"2012-06-30T00:00:00\",\"2012-07-01T00:00:00\",\"2012-07-02T00:00:00\",\"2012-07-03T00:00:00\",\"2012-07-04T00:00:00\",\"2012-07-05T00:00:00\",\"2012-07-06T00:00:00\",\"2012-07-07T00:00:00\",\"2012-07-08T00:00:00\",\"2012-07-09T00:00:00\",\"2012-07-10T00:00:00\",\"2012-07-11T00:00:00\"],\"xaxis\":\"x4\",\"y\":[1,1,5,431,1107,919,949,594,446,1031,1032,815,937,890,597,463,1075,936,953,1041,769,566,510,1125,1183,1183,1743,1296,758,645,893,1137,958,1014,1295,873,777,1424,1144,693,1445,1165,874,649,62,1,8],\"yaxis\":\"y4\",\"type\":\"scatter\"},{\"hovertemplate\":\"borough=STATEN ISLAND\\u003cbr\\u003ecomplaint_date=%{x}\\u003cbr\\u003edaily_complaints=%{y}\\u003cextra\\u003e\\u003c\\u002fextra\\u003e\",\"legendgroup\":\"\",\"line\":{\"color\":\"#636efa\",\"dash\":\"solid\"},\"marker\":{\"symbol\":\"circle\"},\"mode\":\"lines\",\"name\":\"\",\"orientation\":\"v\",\"showlegend\":false,\"x\":[\"2012-05-29T00:00:00\",\"2012-05-30T00:00:00\",\"2012-05-31T00:00:00\",\"2012-06-01T00:00:00\",\"2012-06-02T00:00:00\",\"2012-06-03T00:00:00\",\"2012-06-04T00:00:00\",\"2012-06-05T00:00:00\",\"2012-06-06T00:00:00\",\"2012-06-07T00:00:00\",\"2012-06-08T00:00:00\",\"2012-06-09T00:00:00\",\"2012-06-10T00:00:00\",\"2012-06-11T00:00:00\",\"2012-06-12T00:00:00\",\"2012-06-13T00:00:00\",\"2012-06-14T00:00:00\",\"2012-06-15T00:00:00\",\"2012-06-16T00:00:00\",\"2012-06-17T00:00:00\",\"2012-06-18T00:00:00\",\"2012-06-19T00:00:00\",\"2012-06-20T00:00:00\",\"2012-06-21T00:00:00\",\"2012-06-22T00:00:00\",\"2012-06-23T00:00:00\",\"2012-06-24T00:00:00\",\"2012-06-25T00:00:00\",\"2012-06-26T00:00:00\",\"2012-06-27T00:00:00\",\"2012-06-28T00:00:00\",\"2012-06-29T00:00:00\",\"2012-06-30T00:00:00\",\"2012-07-01T00:00:00\",\"2012-07-02T00:00:00\",\"2012-07-03T00:00:00\",\"2012-07-04T00:00:00\",\"2012-07-05T00:00:00\",\"2012-07-06T00:00:00\",\"2012-07-07T00:00:00\",\"2012-07-08T00:00:00\",\"2012-07-09T00:00:00\",\"2012-07-10T00:00:00\",\"2012-07-11T00:00:00\"],\"xaxis\":\"x5\",\"y\":[103,369,357,316,207,111,284,293,307,276,300,150,148,324,318,328,283,327,162,125,331,343,224,303,337,184,166,456,386,345,344,307,178,156,329,288,141,294,280,181,128,17,5,1],\"yaxis\":\"y5\",\"type\":\"scatter\"},{\"hovertemplate\":\"borough=Unspecified\\u003cbr\\u003ecomplaint_date=%{x}\\u003cbr\\u003edaily_complaints=%{y}\\u003cextra\\u003e\\u003c\\u002fextra\\u003e\",\"legendgroup\":\"\",\"line\":{\"color\":\"#636efa\",\"dash\":\"solid\"},\"marker\":{\"symbol\":\"circle\"},\"mode\":\"lines\",\"name\":\"\",\"orientation\":\"v\",\"showlegend\":false,\"x\":[\"2012-05-29T00:00:00\",\"2012-05-30T00:00:00\",\"2012-05-31T00:00:00\",\"2012-06-01T00:00:00\",\"2012-06-02T00:00:00\",\"2012-06-03T00:00:00\",\"2012-06-04T00:00:00\",\"2012-06-05T00:00:00\",\"2012-06-06T00:00:00\",\"2012-06-07T00:00:00\",\"2012-06-08T00:00:00\",\"2012-06-09T00:00:00\",\"2012-06-10T00:00:00\",\"2012-06-11T00:00:00\",\"2012-06-12T00:00:00\",\"2012-06-13T00:00:00\",\"2012-06-14T00:00:00\",\"2012-06-15T00:00:00\",\"2012-06-16T00:00:00\",\"2012-06-17T00:00:00\",\"2012-06-18T00:00:00\",\"2012-06-19T00:00:00\",\"2012-06-20T00:00:00\",\"2012-06-21T00:00:00\",\"2012-06-22T00:00:00\",\"2012-06-23T00:00:00\",\"2012-06-24T00:00:00\",\"2012-06-25T00:00:00\",\"2012-06-26T00:00:00\",\"2012-06-27T00:00:00\",\"2012-06-28T00:00:00\",\"2012-06-29T00:00:00\",\"2012-06-30T00:00:00\",\"2012-07-01T00:00:00\",\"2012-07-02T00:00:00\",\"2012-07-03T00:00:00\",\"2012-07-04T00:00:00\",\"2012-07-05T00:00:00\",\"2012-07-06T00:00:00\",\"2012-07-07T00:00:00\",\"2012-07-08T00:00:00\",\"2012-07-09T00:00:00\",\"2012-07-10T00:00:00\",\"2012-07-11T00:00:00\"],\"xaxis\":\"x6\",\"y\":[24,96,104,86,21,17,127,126,117,105,67,22,23,112,74,110,105,87,15,25,103,99,132,107,117,51,32,137,93,102,118,82,79,77,130,104,26,123,95,69,71,19,6,7],\"yaxis\":\"y6\",\"type\":\"scatter\"}],                        {\"template\":{\"data\":{\"histogram2dcontour\":[{\"type\":\"histogram2dcontour\",\"colorbar\":{\"outlinewidth\":0,\"ticks\":\"\"},\"colorscale\":[[0.0,\"#0d0887\"],[0.1111111111111111,\"#46039f\"],[0.2222222222222222,\"#7201a8\"],[0.3333333333333333,\"#9c179e\"],[0.4444444444444444,\"#bd3786\"],[0.5555555555555556,\"#d8576b\"],[0.6666666666666666,\"#ed7953\"],[0.7777777777777778,\"#fb9f3a\"],[0.8888888888888888,\"#fdca26\"],[1.0,\"#f0f921\"]]}],\"choropleth\":[{\"type\":\"choropleth\",\"colorbar\":{\"outlinewidth\":0,\"ticks\":\"\"}}],\"histogram2d\":[{\"type\":\"histogram2d\",\"colorbar\":{\"outlinewidth\":0,\"ticks\":\"\"},\"colorscale\":[[0.0,\"#0d0887\"],[0.1111111111111111,\"#46039f\"],[0.2222222222222222,\"#7201a8\"],[0.3333333333333333,\"#9c179e\"],[0.4444444444444444,\"#bd3786\"],[0.5555555555555556,\"#d8576b\"],[0.6666666666666666,\"#ed7953\"],[0.7777777777777778,\"#fb9f3a\"],[0.8888888888888888,\"#fdca26\"],[1.0,\"#f0f921\"]]}],\"heatmap\":[{\"type\":\"heatmap\",\"colorbar\":{\"outlinewidth\":0,\"ticks\":\"\"},\"colorscale\":[[0.0,\"#0d0887\"],[0.1111111111111111,\"#46039f\"],[0.2222222222222222,\"#7201a8\"],[0.3333333333333333,\"#9c179e\"],[0.4444444444444444,\"#bd3786\"],[0.5555555555555556,\"#d8576b\"],[0.6666666666666666,\"#ed7953\"],[0.7777777777777778,\"#fb9f3a\"],[0.8888888888888888,\"#fdca26\"],[1.0,\"#f0f921\"]]}],\"heatmapgl\":[{\"type\":\"heatmapgl\",\"colorbar\":{\"outlinewidth\":0,\"ticks\":\"\"},\"colorscale\":[[0.0,\"#0d0887\"],[0.1111111111111111,\"#46039f\"],[0.2222222222222222,\"#7201a8\"],[0.3333333333333333,\"#9c179e\"],[0.4444444444444444,\"#bd3786\"],[0.5555555555555556,\"#d8576b\"],[0.6666666666666666,\"#ed7953\"],[0.7777777777777778,\"#fb9f3a\"],[0.8888888888888888,\"#fdca26\"],[1.0,\"#f0f921\"]]}],\"contourcarpet\":[{\"type\":\"contourcarpet\",\"colorbar\":{\"outlinewidth\":0,\"ticks\":\"\"}}],\"contour\":[{\"type\":\"contour\",\"colorbar\":{\"outlinewidth\":0,\"ticks\":\"\"},\"colorscale\":[[0.0,\"#0d0887\"],[0.1111111111111111,\"#46039f\"],[0.2222222222222222,\"#7201a8\"],[0.3333333333333333,\"#9c179e\"],[0.4444444444444444,\"#bd3786\"],[0.5555555555555556,\"#d8576b\"],[0.6666666666666666,\"#ed7953\"],[0.7777777777777778,\"#fb9f3a\"],[0.8888888888888888,\"#fdca26\"],[1.0,\"#f0f921\"]]}],\"surface\":[{\"type\":\"surface\",\"colorbar\":{\"outlinewidth\":0,\"ticks\":\"\"},\"colorscale\":[[0.0,\"#0d0887\"],[0.1111111111111111,\"#46039f\"],[0.2222222222222222,\"#7201a8\"],[0.3333333333333333,\"#9c179e\"],[0.4444444444444444,\"#bd3786\"],[0.5555555555555556,\"#d8576b\"],[0.6666666666666666,\"#ed7953\"],[0.7777777777777778,\"#fb9f3a\"],[0.8888888888888888,\"#fdca26\"],[1.0,\"#f0f921\"]]}],\"mesh3d\":[{\"type\":\"mesh3d\",\"colorbar\":{\"outlinewidth\":0,\"ticks\":\"\"}}],\"scatter\":[{\"fillpattern\":{\"fillmode\":\"overlay\",\"size\":10,\"solidity\":0.2},\"type\":\"scatter\"}],\"parcoords\":[{\"type\":\"parcoords\",\"line\":{\"colorbar\":{\"outlinewidth\":0,\"ticks\":\"\"}}}],\"scatterpolargl\":[{\"type\":\"scatterpolargl\",\"marker\":{\"colorbar\":{\"outlinewidth\":0,\"ticks\":\"\"}}}],\"bar\":[{\"error_x\":{\"color\":\"#2a3f5f\"},\"error_y\":{\"color\":\"#2a3f5f\"},\"marker\":{\"line\":{\"color\":\"#E5ECF6\",\"width\":0.5},\"pattern\":{\"fillmode\":\"overlay\",\"size\":10,\"solidity\":0.2}},\"type\":\"bar\"}],\"scattergeo\":[{\"type\":\"scattergeo\",\"marker\":{\"colorbar\":{\"outlinewidth\":0,\"ticks\":\"\"}}}],\"scatterpolar\":[{\"type\":\"scatterpolar\",\"marker\":{\"colorbar\":{\"outlinewidth\":0,\"ticks\":\"\"}}}],\"histogram\":[{\"marker\":{\"pattern\":{\"fillmode\":\"overlay\",\"size\":10,\"solidity\":0.2}},\"type\":\"histogram\"}],\"scattergl\":[{\"type\":\"scattergl\",\"marker\":{\"colorbar\":{\"outlinewidth\":0,\"ticks\":\"\"}}}],\"scatter3d\":[{\"type\":\"scatter3d\",\"line\":{\"colorbar\":{\"outlinewidth\":0,\"ticks\":\"\"}},\"marker\":{\"colorbar\":{\"outlinewidth\":0,\"ticks\":\"\"}}}],\"scattermapbox\":[{\"type\":\"scattermapbox\",\"marker\":{\"colorbar\":{\"outlinewidth\":0,\"ticks\":\"\"}}}],\"scatterternary\":[{\"type\":\"scatterternary\",\"marker\":{\"colorbar\":{\"outlinewidth\":0,\"ticks\":\"\"}}}],\"scattercarpet\":[{\"type\":\"scattercarpet\",\"marker\":{\"colorbar\":{\"outlinewidth\":0,\"ticks\":\"\"}}}],\"carpet\":[{\"aaxis\":{\"endlinecolor\":\"#2a3f5f\",\"gridcolor\":\"white\",\"linecolor\":\"white\",\"minorgridcolor\":\"white\",\"startlinecolor\":\"#2a3f5f\"},\"baxis\":{\"endlinecolor\":\"#2a3f5f\",\"gridcolor\":\"white\",\"linecolor\":\"white\",\"minorgridcolor\":\"white\",\"startlinecolor\":\"#2a3f5f\"},\"type\":\"carpet\"}],\"table\":[{\"cells\":{\"fill\":{\"color\":\"#EBF0F8\"},\"line\":{\"color\":\"white\"}},\"header\":{\"fill\":{\"color\":\"#C8D4E3\"},\"line\":{\"color\":\"white\"}},\"type\":\"table\"}],\"barpolar\":[{\"marker\":{\"line\":{\"color\":\"#E5ECF6\",\"width\":0.5},\"pattern\":{\"fillmode\":\"overlay\",\"size\":10,\"solidity\":0.2}},\"type\":\"barpolar\"}],\"pie\":[{\"automargin\":true,\"type\":\"pie\"}]},\"layout\":{\"autotypenumbers\":\"strict\",\"colorway\":[\"#636efa\",\"#EF553B\",\"#00cc96\",\"#ab63fa\",\"#FFA15A\",\"#19d3f3\",\"#FF6692\",\"#B6E880\",\"#FF97FF\",\"#FECB52\"],\"font\":{\"color\":\"#2a3f5f\"},\"hovermode\":\"closest\",\"hoverlabel\":{\"align\":\"left\"},\"paper_bgcolor\":\"white\",\"plot_bgcolor\":\"#E5ECF6\",\"polar\":{\"bgcolor\":\"#E5ECF6\",\"angularaxis\":{\"gridcolor\":\"white\",\"linecolor\":\"white\",\"ticks\":\"\"},\"radialaxis\":{\"gridcolor\":\"white\",\"linecolor\":\"white\",\"ticks\":\"\"}},\"ternary\":{\"bgcolor\":\"#E5ECF6\",\"aaxis\":{\"gridcolor\":\"white\",\"linecolor\":\"white\",\"ticks\":\"\"},\"baxis\":{\"gridcolor\":\"white\",\"linecolor\":\"white\",\"ticks\":\"\"},\"caxis\":{\"gridcolor\":\"white\",\"linecolor\":\"white\",\"ticks\":\"\"}},\"coloraxis\":{\"colorbar\":{\"outlinewidth\":0,\"ticks\":\"\"}},\"colorscale\":{\"sequential\":[[0.0,\"#0d0887\"],[0.1111111111111111,\"#46039f\"],[0.2222222222222222,\"#7201a8\"],[0.3333333333333333,\"#9c179e\"],[0.4444444444444444,\"#bd3786\"],[0.5555555555555556,\"#d8576b\"],[0.6666666666666666,\"#ed7953\"],[0.7777777777777778,\"#fb9f3a\"],[0.8888888888888888,\"#fdca26\"],[1.0,\"#f0f921\"]],\"sequentialminus\":[[0.0,\"#0d0887\"],[0.1111111111111111,\"#46039f\"],[0.2222222222222222,\"#7201a8\"],[0.3333333333333333,\"#9c179e\"],[0.4444444444444444,\"#bd3786\"],[0.5555555555555556,\"#d8576b\"],[0.6666666666666666,\"#ed7953\"],[0.7777777777777778,\"#fb9f3a\"],[0.8888888888888888,\"#fdca26\"],[1.0,\"#f0f921\"]],\"diverging\":[[0,\"#8e0152\"],[0.1,\"#c51b7d\"],[0.2,\"#de77ae\"],[0.3,\"#f1b6da\"],[0.4,\"#fde0ef\"],[0.5,\"#f7f7f7\"],[0.6,\"#e6f5d0\"],[0.7,\"#b8e186\"],[0.8,\"#7fbc41\"],[0.9,\"#4d9221\"],[1,\"#276419\"]]},\"xaxis\":{\"gridcolor\":\"white\",\"linecolor\":\"white\",\"ticks\":\"\",\"title\":{\"standoff\":15},\"zerolinecolor\":\"white\",\"automargin\":true,\"zerolinewidth\":2},\"yaxis\":{\"gridcolor\":\"white\",\"linecolor\":\"white\",\"ticks\":\"\",\"title\":{\"standoff\":15},\"zerolinecolor\":\"white\",\"automargin\":true,\"zerolinewidth\":2},\"scene\":{\"xaxis\":{\"backgroundcolor\":\"#E5ECF6\",\"gridcolor\":\"white\",\"linecolor\":\"white\",\"showbackground\":true,\"ticks\":\"\",\"zerolinecolor\":\"white\",\"gridwidth\":2},\"yaxis\":{\"backgroundcolor\":\"#E5ECF6\",\"gridcolor\":\"white\",\"linecolor\":\"white\",\"showbackground\":true,\"ticks\":\"\",\"zerolinecolor\":\"white\",\"gridwidth\":2},\"zaxis\":{\"backgroundcolor\":\"#E5ECF6\",\"gridcolor\":\"white\",\"linecolor\":\"white\",\"showbackground\":true,\"ticks\":\"\",\"zerolinecolor\":\"white\",\"gridwidth\":2}},\"shapedefaults\":{\"line\":{\"color\":\"#2a3f5f\"}},\"annotationdefaults\":{\"arrowcolor\":\"#2a3f5f\",\"arrowhead\":0,\"arrowwidth\":1},\"geo\":{\"bgcolor\":\"white\",\"landcolor\":\"#E5ECF6\",\"subunitcolor\":\"white\",\"showland\":true,\"showlakes\":true,\"lakecolor\":\"white\"},\"title\":{\"x\":0.05},\"mapbox\":{\"style\":\"light\"}}},\"xaxis\":{\"anchor\":\"y\",\"domain\":[0.0,0.31999999999999995],\"title\":{\"text\":\"Date\"}},\"yaxis\":{\"anchor\":\"x\",\"domain\":[0.0,0.2866666666666666],\"title\":{\"text\":\"Complaints reported\"}},\"xaxis2\":{\"anchor\":\"y2\",\"domain\":[0.33999999999999997,0.6599999999999999],\"matches\":\"x\",\"title\":{\"text\":\"Date\"}},\"yaxis2\":{\"anchor\":\"x2\",\"domain\":[0.0,0.2866666666666666],\"matches\":\"y\",\"showticklabels\":false,\"title\":{\"text\":\"Complaints reported\"}},\"xaxis3\":{\"anchor\":\"y3\",\"domain\":[0.6799999999999999,0.9999999999999999],\"matches\":\"x\",\"title\":{\"text\":\"Date\"}},\"yaxis3\":{\"anchor\":\"x3\",\"domain\":[0.0,0.2866666666666666],\"matches\":\"y\",\"showticklabels\":false,\"title\":{\"text\":\"Complaints reported\"}},\"xaxis4\":{\"anchor\":\"y4\",\"domain\":[0.0,0.31999999999999995],\"matches\":\"x\",\"showticklabels\":false,\"title\":{\"text\":\"Date\"}},\"yaxis4\":{\"anchor\":\"x4\",\"domain\":[0.35666666666666663,0.6433333333333333],\"matches\":\"y\",\"title\":{\"text\":\"Complaints reported\"}},\"xaxis5\":{\"anchor\":\"y5\",\"domain\":[0.33999999999999997,0.6599999999999999],\"matches\":\"x\",\"showticklabels\":false,\"title\":{\"text\":\"Date\"}},\"yaxis5\":{\"anchor\":\"x5\",\"domain\":[0.35666666666666663,0.6433333333333333],\"matches\":\"y\",\"showticklabels\":false,\"title\":{\"text\":\"Complaints reported\"}},\"xaxis6\":{\"anchor\":\"y6\",\"domain\":[0.6799999999999999,0.9999999999999999],\"matches\":\"x\",\"showticklabels\":false,\"title\":{\"text\":\"Date\"}},\"yaxis6\":{\"anchor\":\"x6\",\"domain\":[0.35666666666666663,0.6433333333333333],\"matches\":\"y\",\"showticklabels\":false,\"title\":{\"text\":\"Complaints reported\"}},\"xaxis7\":{\"anchor\":\"y7\",\"domain\":[0.0,0.31999999999999995],\"matches\":\"x\",\"showticklabels\":false,\"title\":{\"text\":\"Date\"}},\"yaxis7\":{\"anchor\":\"x7\",\"domain\":[0.7133333333333333,0.9999999999999999],\"matches\":\"y\",\"title\":{\"text\":\"Complaints reported\"}},\"xaxis8\":{\"anchor\":\"y8\",\"domain\":[0.33999999999999997,0.6599999999999999],\"matches\":\"x\",\"showticklabels\":false,\"title\":{\"text\":\"Date\"}},\"yaxis8\":{\"anchor\":\"x8\",\"domain\":[0.7133333333333333,0.9999999999999999],\"matches\":\"y\",\"showticklabels\":false,\"title\":{\"text\":\"Complaints reported\"}},\"xaxis9\":{\"anchor\":\"y9\",\"domain\":[0.6799999999999999,0.9999999999999999],\"matches\":\"x\",\"showticklabels\":false,\"title\":{\"text\":\"Date\"}},\"yaxis9\":{\"anchor\":\"x9\",\"domain\":[0.7133333333333333,0.9999999999999999],\"matches\":\"y\",\"showticklabels\":false,\"title\":{\"text\":\"Complaints reported\"}},\"annotations\":[{\"font\":{},\"showarrow\":false,\"text\":\"None\",\"x\":0.15999999999999998,\"xanchor\":\"center\",\"xref\":\"paper\",\"y\":0.2866666666666666,\"yanchor\":\"bottom\",\"yref\":\"paper\"},{\"font\":{},\"showarrow\":false,\"text\":\"BRONX\",\"x\":0.15999999999999998,\"xanchor\":\"center\",\"xref\":\"paper\",\"y\":0.6433333333333333,\"yanchor\":\"bottom\",\"yref\":\"paper\"},{\"font\":{},\"showarrow\":false,\"text\":\"STATEN ISLAND\",\"x\":0.49999999999999994,\"xanchor\":\"center\",\"xref\":\"paper\",\"y\":0.6433333333333333,\"yanchor\":\"bottom\",\"yref\":\"paper\"},{\"font\":{},\"showarrow\":false,\"text\":\"Unspecified\",\"x\":0.8399999999999999,\"xanchor\":\"center\",\"xref\":\"paper\",\"y\":0.6433333333333333,\"yanchor\":\"bottom\",\"yref\":\"paper\"},{\"font\":{},\"showarrow\":false,\"text\":\"BROOKLYN\",\"x\":0.15999999999999998,\"xanchor\":\"center\",\"xref\":\"paper\",\"y\":0.9999999999999999,\"yanchor\":\"bottom\",\"yref\":\"paper\"},{\"font\":{},\"showarrow\":false,\"text\":\"QUEENS\",\"x\":0.49999999999999994,\"xanchor\":\"center\",\"xref\":\"paper\",\"y\":0.9999999999999999,\"yanchor\":\"bottom\",\"yref\":\"paper\"},{\"font\":{},\"showarrow\":false,\"text\":\"MANHATTAN\",\"x\":0.8399999999999999,\"xanchor\":\"center\",\"xref\":\"paper\",\"y\":0.9999999999999999,\"yanchor\":\"bottom\",\"yref\":\"paper\"}],\"legend\":{\"tracegroupgap\":0},\"title\":{\"text\":\"Daily complaints over time, grouped by NYC borough\"}},                        {\"responsive\": true}                    ).then(function(){\n",
       "                            \n",
       "var gd = document.getElementById('8c31ff8d-1d41-469b-9817-2ac1e53fd1bc');\n",
       "var x = new MutationObserver(function (mutations, observer) {{\n",
       "        var display = window.getComputedStyle(gd).display;\n",
       "        if (!display || display === 'none') {{\n",
       "            console.log([gd, 'removed!']);\n",
       "            Plotly.purge(gd);\n",
       "            observer.disconnect();\n",
       "        }}\n",
       "}});\n",
       "\n",
       "// Listen for the removal of the full notebook cells\n",
       "var notebookContainer = gd.closest('#notebook-container');\n",
       "if (notebookContainer) {{\n",
       "    x.observe(notebookContainer, {childList: true});\n",
       "}}\n",
       "\n",
       "// Listen for the clearing of the current output cell\n",
       "var outputEl = gd.closest('.output');\n",
       "if (outputEl) {{\n",
       "    x.observe(outputEl, {childList: true});\n",
       "}}\n",
       "\n",
       "                        })                };                });            </script>        </div>"
      ]
     },
     "metadata": {},
     "output_type": "display_data"
    }
   ],
   "source": [
    "fig = px.line(df, x=\"complaint_date\", y=\"daily_complaints\", facet_col=\"borough\",\n",
    "      facet_col_wrap=3,\n",
    "      title=\"Daily complaints over time, grouped by NYC borough\"\n",
    ")\n",
    "# This changes each facet plot title from something like \"borough=MANHATTAN\" to just \"MANHATTAN\"\n",
    "fig.for_each_annotation(lambda a: a.update(text=a.text.split(\"=\")[-1]))\n",
    "fig.for_each_xaxis(lambda a: a.update(title=\"Date\"))\n",
    "fig.for_each_yaxis(lambda a: a.update(title=\"Complaints reported\"))\n",
    "\n",
    "# fig.show()"
   ]
  },
  {
   "cell_type": "code",
   "execution_count": 41,
   "id": "06a2bc28-64a7-433c-917a-994497ebecb0",
   "metadata": {},
   "outputs": [],
   "source": [
    "conn.close()"
   ]
  },
  {
   "cell_type": "code",
   "execution_count": null,
   "id": "faa4512d-f80c-4943-8947-0427306a8b54",
   "metadata": {},
   "outputs": [],
   "source": []
  }
 ],
 "metadata": {
  "kernelspec": {
   "display_name": "Python 3 (ipykernel)",
   "language": "python",
   "name": "python3"
  },
  "language_info": {
   "codemirror_mode": {
    "name": "ipython",
    "version": 3
   },
   "file_extension": ".py",
   "mimetype": "text/x-python",
   "name": "python",
   "nbconvert_exporter": "python",
   "pygments_lexer": "ipython3",
   "version": "3.11.8"
  }
 },
 "nbformat": 4,
 "nbformat_minor": 5
}
